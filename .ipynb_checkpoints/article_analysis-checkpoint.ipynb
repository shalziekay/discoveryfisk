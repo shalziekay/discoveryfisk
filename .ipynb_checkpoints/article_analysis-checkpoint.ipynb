{
 "cells": [
  {
   "cell_type": "code",
   "execution_count": 1,
   "metadata": {},
   "outputs": [],
   "source": [
    "# Import necessary packages\n",
    "import pandas as pd\n",
    "import numpy as np\n",
    "import matplotlib.pyplot as plt\n",
    "%matplotlib inline\n",
    "from requests import get\n",
    "from requests.exceptions import RequestException\n",
    "from contextlib import closing\n",
    "from bs4 import BeautifulSoup\n",
    "import re\n",
    "import dateutil.parser\n",
    "import datetime\n",
    "# Shalini Url/tag usage\n",
    "import json\n",
    "# Detect Non English Blog Posts\n",
    "from langdetect import detect\n",
    "import seaborn as sns"
   ]
  },
  {
   "cell_type": "markdown",
   "metadata": {},
   "source": [
    "# The Collected Data\n",
    "In the `article_data_collection.ipynb` notebook, we parsed the Medium website for articles and their information, removed the non-english blogposts, and compiled the remaining information into a large csv:"
   ]
  },
  {
   "cell_type": "code",
   "execution_count": 2,
   "metadata": {},
   "outputs": [
    {
     "data": {
      "text/html": [
       "<div>\n",
       "<style scoped>\n",
       "    .dataframe tbody tr th:only-of-type {\n",
       "        vertical-align: middle;\n",
       "    }\n",
       "\n",
       "    .dataframe tbody tr th {\n",
       "        vertical-align: top;\n",
       "    }\n",
       "\n",
       "    .dataframe thead th {\n",
       "        text-align: right;\n",
       "    }\n",
       "</style>\n",
       "<table border=\"1\" class=\"dataframe\">\n",
       "  <thead>\n",
       "    <tr style=\"text-align: right;\">\n",
       "      <th></th>\n",
       "      <th>author</th>\n",
       "      <th>author_bio</th>\n",
       "      <th>title</th>\n",
       "      <th>date</th>\n",
       "      <th>publisher</th>\n",
       "      <th>text</th>\n",
       "      <th>tags</th>\n",
       "      <th>url</th>\n",
       "      <th>score</th>\n",
       "    </tr>\n",
       "  </thead>\n",
       "  <tbody>\n",
       "    <tr>\n",
       "      <th>0</th>\n",
       "      <td>Gregorio Rojas</td>\n",
       "      <td>Founder @WeSabio - #LearnToCode - I Blog @ htt...</td>\n",
       "      <td>LinkedIn Outcomes Report of Coding Bootcamps –...</td>\n",
       "      <td>2016-06-01 22:46:01</td>\n",
       "      <td>wesabio</td>\n",
       "      <td>Linked In Outcomes Report of Coding Bootcamps ...</td>\n",
       "      <td>['Learning To Code', 'Coding Bootcamps']</td>\n",
       "      <td>https://researchcodingbootcamps.com/linkedin-o...</td>\n",
       "      <td>10</td>\n",
       "    </tr>\n",
       "    <tr>\n",
       "      <th>1</th>\n",
       "      <td>Emily Deans</td>\n",
       "      <td>Washington, D.C.-based web developer. Former c...</td>\n",
       "      <td>Middleware/End of Week – Emily Deans – Medium</td>\n",
       "      <td>2017-07-28 20:01:22</td>\n",
       "      <td>medium</td>\n",
       "      <td>Middleware/ End of Week The last few days we’v...</td>\n",
       "      <td>['JavaScript', 'Lesbians Who Tech', 'Women Who...</td>\n",
       "      <td>https://medium.com/@emilyldeans/middleware-end...</td>\n",
       "      <td>0</td>\n",
       "    </tr>\n",
       "    <tr>\n",
       "      <th>2</th>\n",
       "      <td>Verity Honebon</td>\n",
       "      <td>NaN</td>\n",
       "      <td>Week 6 — working in groups (Airbnb clone) – Ve...</td>\n",
       "      <td>2017-07-31 10:57:36</td>\n",
       "      <td>medium</td>\n",
       "      <td>Week 6 — working in groups ( Airbnb clone) The...</td>\n",
       "      <td>['Agile', 'Codingbootcamp', 'Coding', 'Teamwor...</td>\n",
       "      <td>https://medium.com/@verityhonebon/week-6-worki...</td>\n",
       "      <td>1</td>\n",
       "    </tr>\n",
       "    <tr>\n",
       "      <th>3</th>\n",
       "      <td>Emily Chai</td>\n",
       "      <td>A student at Maker’s, aspiring full stack deve...</td>\n",
       "      <td>Hunting for a first job as a developer – Emily...</td>\n",
       "      <td>2017-05-13 10:44:31</td>\n",
       "      <td>medium</td>\n",
       "      <td>Hunting for a first job as a developer Passing...</td>\n",
       "      <td>['Job Hunting', 'Developer', 'Makersacademy', ...</td>\n",
       "      <td>https://medium.com/@emilyxchai/hunting-for-a-f...</td>\n",
       "      <td>0</td>\n",
       "    </tr>\n",
       "    <tr>\n",
       "      <th>4</th>\n",
       "      <td>Jackson McGehee</td>\n",
       "      <td>Web Dev | Software Engineer | Creative Strateg...</td>\n",
       "      <td>Notes from U̶n̶d̶e̶r̶g̶r̶o̶u̶n̶d̶ Week Nine – ...</td>\n",
       "      <td>2018-02-02 17:30:29</td>\n",
       "      <td>medium</td>\n",
       "      <td>Notes from U̶n̶d̶e̶r̶g̶r̶o̶u̶n̶d̶ Week Nine I ...</td>\n",
       "      <td>['Web Development', 'JavaScript', 'Codingbootc...</td>\n",
       "      <td>https://medium.com/@jacksonfullstack/notes-fro...</td>\n",
       "      <td>0</td>\n",
       "    </tr>\n",
       "  </tbody>\n",
       "</table>\n",
       "</div>"
      ],
      "text/plain": [
       "            author                                         author_bio  \\\n",
       "0   Gregorio Rojas  Founder @WeSabio - #LearnToCode - I Blog @ htt...   \n",
       "1      Emily Deans  Washington, D.C.-based web developer. Former c...   \n",
       "2   Verity Honebon                                                NaN   \n",
       "3       Emily Chai  A student at Maker’s, aspiring full stack deve...   \n",
       "4  Jackson McGehee  Web Dev | Software Engineer | Creative Strateg...   \n",
       "\n",
       "                                               title                 date  \\\n",
       "0  LinkedIn Outcomes Report of Coding Bootcamps –...  2016-06-01 22:46:01   \n",
       "1      Middleware/End of Week – Emily Deans – Medium  2017-07-28 20:01:22   \n",
       "2  Week 6 — working in groups (Airbnb clone) – Ve...  2017-07-31 10:57:36   \n",
       "3  Hunting for a first job as a developer – Emily...  2017-05-13 10:44:31   \n",
       "4  Notes from U̶n̶d̶e̶r̶g̶r̶o̶u̶n̶d̶ Week Nine – ...  2018-02-02 17:30:29   \n",
       "\n",
       "  publisher                                               text  \\\n",
       "0   wesabio  Linked In Outcomes Report of Coding Bootcamps ...   \n",
       "1    medium  Middleware/ End of Week The last few days we’v...   \n",
       "2    medium  Week 6 — working in groups ( Airbnb clone) The...   \n",
       "3    medium  Hunting for a first job as a developer Passing...   \n",
       "4    medium  Notes from U̶n̶d̶e̶r̶g̶r̶o̶u̶n̶d̶ Week Nine I ...   \n",
       "\n",
       "                                                tags  \\\n",
       "0           ['Learning To Code', 'Coding Bootcamps']   \n",
       "1  ['JavaScript', 'Lesbians Who Tech', 'Women Who...   \n",
       "2  ['Agile', 'Codingbootcamp', 'Coding', 'Teamwor...   \n",
       "3  ['Job Hunting', 'Developer', 'Makersacademy', ...   \n",
       "4  ['Web Development', 'JavaScript', 'Codingbootc...   \n",
       "\n",
       "                                                 url  score  \n",
       "0  https://researchcodingbootcamps.com/linkedin-o...     10  \n",
       "1  https://medium.com/@emilyldeans/middleware-end...      0  \n",
       "2  https://medium.com/@verityhonebon/week-6-worki...      1  \n",
       "3  https://medium.com/@emilyxchai/hunting-for-a-f...      0  \n",
       "4  https://medium.com/@jacksonfullstack/notes-fro...      0  "
      ]
     },
     "execution_count": 2,
     "metadata": {},
     "output_type": "execute_result"
    }
   ],
   "source": [
    "codingbootcamp_info = pd.read_csv('./codingbootcamp_articles_info.csv')\n",
    "codingbootcamp_info.head()"
   ]
  },
  {
   "cell_type": "markdown",
   "metadata": {},
   "source": [
    "# Analysis\n",
    "From the initial dataset, we would like to conduct further analysis - are these articles relevant to Krista's thesis? What types of bootcamps are present in these articles? Are there differing trends in articles by gender? How popular are these types of articles?"
   ]
  },
  {
   "cell_type": "markdown",
   "metadata": {},
   "source": [
    "## Relevant Score Using Krista's Words\n",
    "It would be difficult to read through all 1075 articles, and would include uncessary work because some of these articles are not relevant to Krista's thesis - why did people choose to attend Coding Bootcamp in the first place?\n",
    "So we will attempt to compute a \"relevancy score\" for each article, based on a dictionary of relevant phrases and weights provided by Krista, to help narrow down the list of articles that would be helpful for research."
   ]
  },
  {
   "cell_type": "code",
   "execution_count": 3,
   "metadata": {},
   "outputs": [],
   "source": [
    "krista_relevant_words = {\n",
    "    \"background\": 1, \n",
    "    \"major\": 1, \n",
    "    \"degree\": 1, \n",
    "    \"phd\": 1, \n",
    "    \"undergrad\": 1, \n",
    "    \"quit my job\": 1, \n",
    "    \"college\": 1, \n",
    "    \"motivation\" :1, \n",
    "    \"masters\": 1, \n",
    "    \"formal\" : 1,\n",
    "    \"education\": 1\n",
    "}\n",
    "def compute_article_score(relevant_phrase_dictionary, article_text):\n",
    "    \"\"\"\n",
    "    Comput the \"relevancy\" score of an article using a provided dictionary and weights.\n",
    "    Each instance of a relevant word contributes its weight to the total score, so if an article\n",
    "    contains three instances of a relevant word (whose weight is 2), and no other relevant words,\n",
    "    then the article score is 3*2 = 6.\n",
    "    Arguments:\n",
    "        -relevant_phrase_dictionary: Dictionary of phrase(string): weight(integer)\n",
    "        -article_text: string of article text\n",
    "    Returns:\n",
    "        -integer score\n",
    "    \"\"\"\n",
    "    phrases = relevant_phrase_dictionary.keys()\n",
    "    # Create pattern for regex - the | is an \"or\" logic\n",
    "    phrases_pattern = \"|\".join(phrases)\n",
    "    found_phrases_with_duplicates = re.findall(phrases_pattern, article_text)\n",
    "    found_word_count = {}\n",
    "    for w in found_phrases_with_duplicates:\n",
    "        # If the word hasn't been found yet (i.e. does not exist as a key in our dict)\n",
    "        if not found_word_count.get(w):\n",
    "            found_word_count[w] = 1\n",
    "        # If the word has been seen, increment its count\n",
    "        else:\n",
    "            found_word_count[w] += 1\n",
    "    #Multiply word weight by the number of times it occured\n",
    "    score = sum([relevant_phrase_dictionary[w]*found_word_count[w] for w in found_word_count])\n",
    "    # If an article contained no relevant words, then its score is None so return 0 instead to keep things all ints.\n",
    "    return score if score else 0"
   ]
  },
  {
   "cell_type": "code",
   "execution_count": 4,
   "metadata": {},
   "outputs": [],
   "source": [
    "# Have to use a lambda function because apply can only pass one argument, but this function requires two\n",
    "score_series = codingbootcamp_info[\"text\"].apply(lambda article: compute_article_score(krista_relevant_words, article))"
   ]
  },
  {
   "cell_type": "code",
   "execution_count": 5,
   "metadata": {},
   "outputs": [
    {
     "data": {
      "text/html": [
       "<div>\n",
       "<style scoped>\n",
       "    .dataframe tbody tr th:only-of-type {\n",
       "        vertical-align: middle;\n",
       "    }\n",
       "\n",
       "    .dataframe tbody tr th {\n",
       "        vertical-align: top;\n",
       "    }\n",
       "\n",
       "    .dataframe thead th {\n",
       "        text-align: right;\n",
       "    }\n",
       "</style>\n",
       "<table border=\"1\" class=\"dataframe\">\n",
       "  <thead>\n",
       "    <tr style=\"text-align: right;\">\n",
       "      <th></th>\n",
       "      <th>author</th>\n",
       "      <th>author_bio</th>\n",
       "      <th>title</th>\n",
       "      <th>date</th>\n",
       "      <th>publisher</th>\n",
       "      <th>text</th>\n",
       "      <th>tags</th>\n",
       "      <th>url</th>\n",
       "      <th>score</th>\n",
       "    </tr>\n",
       "  </thead>\n",
       "  <tbody>\n",
       "    <tr>\n",
       "      <th>0</th>\n",
       "      <td>Gregorio Rojas</td>\n",
       "      <td>Founder @WeSabio - #LearnToCode - I Blog @ htt...</td>\n",
       "      <td>LinkedIn Outcomes Report of Coding Bootcamps –...</td>\n",
       "      <td>2016-06-01 22:46:01</td>\n",
       "      <td>wesabio</td>\n",
       "      <td>Linked In Outcomes Report of Coding Bootcamps ...</td>\n",
       "      <td>['Learning To Code', 'Coding Bootcamps']</td>\n",
       "      <td>https://researchcodingbootcamps.com/linkedin-o...</td>\n",
       "      <td>10</td>\n",
       "    </tr>\n",
       "    <tr>\n",
       "      <th>1</th>\n",
       "      <td>Emily Deans</td>\n",
       "      <td>Washington, D.C.-based web developer. Former c...</td>\n",
       "      <td>Middleware/End of Week – Emily Deans – Medium</td>\n",
       "      <td>2017-07-28 20:01:22</td>\n",
       "      <td>medium</td>\n",
       "      <td>Middleware/ End of Week The last few days we’v...</td>\n",
       "      <td>['JavaScript', 'Lesbians Who Tech', 'Women Who...</td>\n",
       "      <td>https://medium.com/@emilyldeans/middleware-end...</td>\n",
       "      <td>0</td>\n",
       "    </tr>\n",
       "    <tr>\n",
       "      <th>2</th>\n",
       "      <td>Verity Honebon</td>\n",
       "      <td>NaN</td>\n",
       "      <td>Week 6 — working in groups (Airbnb clone) – Ve...</td>\n",
       "      <td>2017-07-31 10:57:36</td>\n",
       "      <td>medium</td>\n",
       "      <td>Week 6 — working in groups ( Airbnb clone) The...</td>\n",
       "      <td>['Agile', 'Codingbootcamp', 'Coding', 'Teamwor...</td>\n",
       "      <td>https://medium.com/@verityhonebon/week-6-worki...</td>\n",
       "      <td>1</td>\n",
       "    </tr>\n",
       "    <tr>\n",
       "      <th>3</th>\n",
       "      <td>Emily Chai</td>\n",
       "      <td>A student at Maker’s, aspiring full stack deve...</td>\n",
       "      <td>Hunting for a first job as a developer – Emily...</td>\n",
       "      <td>2017-05-13 10:44:31</td>\n",
       "      <td>medium</td>\n",
       "      <td>Hunting for a first job as a developer Passing...</td>\n",
       "      <td>['Job Hunting', 'Developer', 'Makersacademy', ...</td>\n",
       "      <td>https://medium.com/@emilyxchai/hunting-for-a-f...</td>\n",
       "      <td>0</td>\n",
       "    </tr>\n",
       "    <tr>\n",
       "      <th>4</th>\n",
       "      <td>Jackson McGehee</td>\n",
       "      <td>Web Dev | Software Engineer | Creative Strateg...</td>\n",
       "      <td>Notes from U̶n̶d̶e̶r̶g̶r̶o̶u̶n̶d̶ Week Nine – ...</td>\n",
       "      <td>2018-02-02 17:30:29</td>\n",
       "      <td>medium</td>\n",
       "      <td>Notes from U̶n̶d̶e̶r̶g̶r̶o̶u̶n̶d̶ Week Nine I ...</td>\n",
       "      <td>['Web Development', 'JavaScript', 'Codingbootc...</td>\n",
       "      <td>https://medium.com/@jacksonfullstack/notes-fro...</td>\n",
       "      <td>0</td>\n",
       "    </tr>\n",
       "  </tbody>\n",
       "</table>\n",
       "</div>"
      ],
      "text/plain": [
       "            author                                         author_bio  \\\n",
       "0   Gregorio Rojas  Founder @WeSabio - #LearnToCode - I Blog @ htt...   \n",
       "1      Emily Deans  Washington, D.C.-based web developer. Former c...   \n",
       "2   Verity Honebon                                                NaN   \n",
       "3       Emily Chai  A student at Maker’s, aspiring full stack deve...   \n",
       "4  Jackson McGehee  Web Dev | Software Engineer | Creative Strateg...   \n",
       "\n",
       "                                               title                 date  \\\n",
       "0  LinkedIn Outcomes Report of Coding Bootcamps –...  2016-06-01 22:46:01   \n",
       "1      Middleware/End of Week – Emily Deans – Medium  2017-07-28 20:01:22   \n",
       "2  Week 6 — working in groups (Airbnb clone) – Ve...  2017-07-31 10:57:36   \n",
       "3  Hunting for a first job as a developer – Emily...  2017-05-13 10:44:31   \n",
       "4  Notes from U̶n̶d̶e̶r̶g̶r̶o̶u̶n̶d̶ Week Nine – ...  2018-02-02 17:30:29   \n",
       "\n",
       "  publisher                                               text  \\\n",
       "0   wesabio  Linked In Outcomes Report of Coding Bootcamps ...   \n",
       "1    medium  Middleware/ End of Week The last few days we’v...   \n",
       "2    medium  Week 6 — working in groups ( Airbnb clone) The...   \n",
       "3    medium  Hunting for a first job as a developer Passing...   \n",
       "4    medium  Notes from U̶n̶d̶e̶r̶g̶r̶o̶u̶n̶d̶ Week Nine I ...   \n",
       "\n",
       "                                                tags  \\\n",
       "0           ['Learning To Code', 'Coding Bootcamps']   \n",
       "1  ['JavaScript', 'Lesbians Who Tech', 'Women Who...   \n",
       "2  ['Agile', 'Codingbootcamp', 'Coding', 'Teamwor...   \n",
       "3  ['Job Hunting', 'Developer', 'Makersacademy', ...   \n",
       "4  ['Web Development', 'JavaScript', 'Codingbootc...   \n",
       "\n",
       "                                                 url  score  \n",
       "0  https://researchcodingbootcamps.com/linkedin-o...     10  \n",
       "1  https://medium.com/@emilyldeans/middleware-end...      0  \n",
       "2  https://medium.com/@verityhonebon/week-6-worki...      1  \n",
       "3  https://medium.com/@emilyxchai/hunting-for-a-f...      0  \n",
       "4  https://medium.com/@jacksonfullstack/notes-fro...      0  "
      ]
     },
     "execution_count": 5,
     "metadata": {},
     "output_type": "execute_result"
    }
   ],
   "source": [
    "codingbootcamp_info.head()"
   ]
  },
  {
   "cell_type": "markdown",
   "metadata": {},
   "source": [
    "We can see the top 10 most \"relevant\" articles:"
   ]
  },
  {
   "cell_type": "code",
   "execution_count": 6,
   "metadata": {},
   "outputs": [
    {
     "data": {
      "text/html": [
       "<div>\n",
       "<style scoped>\n",
       "    .dataframe tbody tr th:only-of-type {\n",
       "        vertical-align: middle;\n",
       "    }\n",
       "\n",
       "    .dataframe tbody tr th {\n",
       "        vertical-align: top;\n",
       "    }\n",
       "\n",
       "    .dataframe thead th {\n",
       "        text-align: right;\n",
       "    }\n",
       "</style>\n",
       "<table border=\"1\" class=\"dataframe\">\n",
       "  <thead>\n",
       "    <tr style=\"text-align: right;\">\n",
       "      <th></th>\n",
       "      <th>author</th>\n",
       "      <th>author_bio</th>\n",
       "      <th>title</th>\n",
       "      <th>date</th>\n",
       "      <th>publisher</th>\n",
       "      <th>text</th>\n",
       "      <th>tags</th>\n",
       "      <th>url</th>\n",
       "      <th>score</th>\n",
       "    </tr>\n",
       "  </thead>\n",
       "  <tbody>\n",
       "    <tr>\n",
       "      <th>122</th>\n",
       "      <td>Paul O'Brien</td>\n",
       "      <td>CEO of MediaTech Ventures, CMO to #VC, #Startu...</td>\n",
       "      <td>From Cambridge to Coffee Barista, How Universi...</td>\n",
       "      <td>2018-08-23 20:53:52</td>\n",
       "      <td>medium</td>\n",
       "      <td>From Cambridge to Coffee Barista, How Universi...</td>\n",
       "      <td>['Education', 'Schools', 'University', 'Entrep...</td>\n",
       "      <td>https://medium.com/@seobrien/from-cambridge-to...</td>\n",
       "      <td>30</td>\n",
       "    </tr>\n",
       "    <tr>\n",
       "      <th>537</th>\n",
       "      <td>NEXT Academy</td>\n",
       "      <td>We are South East Asia’s best tech school focu...</td>\n",
       "      <td>Why Rushing To College Shouldn’t Be Your Top P...</td>\n",
       "      <td>2016-12-01 10:34:25</td>\n",
       "      <td>medium</td>\n",
       "      <td>Why Rushing To College Shouldn’t Be Your Top P...</td>\n",
       "      <td>['College', 'Coding Bootcamp', 'Personal Devel...</td>\n",
       "      <td>https://medium.com/@NEXTAcademy_/why-rushing-t...</td>\n",
       "      <td>25</td>\n",
       "    </tr>\n",
       "    <tr>\n",
       "      <th>518</th>\n",
       "      <td>Todd Zipper</td>\n",
       "      <td>Todd Zipper serves as President and Chief Exec...</td>\n",
       "      <td>How EQUIP Affects Higher Education – Uncomprom...</td>\n",
       "      <td>2016-09-01 13:11:39</td>\n",
       "      <td>medium</td>\n",
       "      <td>How E Q U I P Affects Higher Education I’ve ta...</td>\n",
       "      <td>['Trending In Higher Ed', 'Coding Bootcamp', '...</td>\n",
       "      <td>https://medium.com/uncompromising-edu/how-equi...</td>\n",
       "      <td>24</td>\n",
       "    </tr>\n",
       "    <tr>\n",
       "      <th>269</th>\n",
       "      <td>Mike Grandinetti</td>\n",
       "      <td>Serial VC-backed Entrepreneur, Sr.Lecturer MIT...</td>\n",
       "      <td>Rise of the ‘self-taught’ developer disrupting...</td>\n",
       "      <td>2016-09-01 14:29:04</td>\n",
       "      <td>medium</td>\n",
       "      <td>Rise of the ‘self-taught’ developer disrupting...</td>\n",
       "      <td>['Programming', 'Education', 'Codingbootcamp',...</td>\n",
       "      <td>https://medium.com/@mikegrand1/rise-of-the-sel...</td>\n",
       "      <td>20</td>\n",
       "    </tr>\n",
       "    <tr>\n",
       "      <th>510</th>\n",
       "      <td>David Smooke</td>\n",
       "      <td>https://hackernoon.com/ publisher/writer. doin...</td>\n",
       "      <td>Fullstack Academy — the Founders, the Philosop...</td>\n",
       "      <td>2018-05-08 17:43:40</td>\n",
       "      <td>hackernoon</td>\n",
       "      <td>Fullstack Academy — the Founders, the Philosop...</td>\n",
       "      <td>['Fullstack Academy', 'Fullstack Founders', 'C...</td>\n",
       "      <td>https://hackernoon.com/fullstack-academy-the-f...</td>\n",
       "      <td>19</td>\n",
       "    </tr>\n",
       "    <tr>\n",
       "      <th>428</th>\n",
       "      <td>Rithm School</td>\n",
       "      <td>18 week program on #JavaScript #ReactJS and #P...</td>\n",
       "      <td>Alumni Spotlight: Daniel Szabo – Rithm School ...</td>\n",
       "      <td>2018-08-16 22:49:53</td>\n",
       "      <td>medium</td>\n",
       "      <td>Alumni Spotlight: Daniel Szabo Daniel came to ...</td>\n",
       "      <td>['Programming', 'Engineering', 'Codingbootcamp...</td>\n",
       "      <td>https://medium.com/@rithmschool/alumni-spotlig...</td>\n",
       "      <td>18</td>\n",
       "    </tr>\n",
       "    <tr>\n",
       "      <th>441</th>\n",
       "      <td>Kyle Thayer</td>\n",
       "      <td>I am a PhD student studying programming, cultu...</td>\n",
       "      <td>Coding Bootcamps vs. Computer Science Degrees:...</td>\n",
       "      <td>2018-03-02 15:56:15</td>\n",
       "      <td>medium</td>\n",
       "      <td>Coding Bootcamps vs. Computer Science Degrees:...</td>\n",
       "      <td>['Programming', 'Computer Science', 'Codingboo...</td>\n",
       "      <td>https://medium.com/bits-and-behavior/coding-bo...</td>\n",
       "      <td>18</td>\n",
       "    </tr>\n",
       "    <tr>\n",
       "      <th>206</th>\n",
       "      <td>Rae Lambert</td>\n",
       "      <td>Creator of Small Space, Big Taste. A digital m...</td>\n",
       "      <td>There’s a cheaper, faster way to build skills ...</td>\n",
       "      <td>2018-10-05 21:08:27</td>\n",
       "      <td>medium</td>\n",
       "      <td>There’s a cheaper, faster way to build skills ...</td>\n",
       "      <td>['Education Reform', 'Codingbootcamp', 'Techno...</td>\n",
       "      <td>https://medium.com/@raechel.lambert/theres-a-c...</td>\n",
       "      <td>17</td>\n",
       "    </tr>\n",
       "    <tr>\n",
       "      <th>325</th>\n",
       "      <td>Osei Bonsu</td>\n",
       "      <td>CTO of the College Consortium and Instructor a...</td>\n",
       "      <td>What Does the Rise of the Coding Boot Camp Mea...</td>\n",
       "      <td>2018-05-09 19:07:42</td>\n",
       "      <td>medium</td>\n",
       "      <td>What Does the Rise of the Coding Boot Camp Mea...</td>\n",
       "      <td>['Education', 'Technology', 'Codingbootcamp', ...</td>\n",
       "      <td>https://medium.com/college-consortium/what-doe...</td>\n",
       "      <td>17</td>\n",
       "    </tr>\n",
       "    <tr>\n",
       "      <th>30</th>\n",
       "      <td>Kamrin Klauschie</td>\n",
       "      <td>Be the hustle you wish to see in the world.</td>\n",
       "      <td>How To Choose a Bootcamp Like a Bootcamp Emplo...</td>\n",
       "      <td>2018-04-05 06:18:07</td>\n",
       "      <td>medium</td>\n",
       "      <td>How To Choose a Bootcamp Like a Bootcamp Emplo...</td>\n",
       "      <td>['Programming', 'Education', 'Software', 'Codi...</td>\n",
       "      <td>https://medium.com/apprenticeship-io/how-to-ch...</td>\n",
       "      <td>17</td>\n",
       "    </tr>\n",
       "  </tbody>\n",
       "</table>\n",
       "</div>"
      ],
      "text/plain": [
       "               author                                         author_bio  \\\n",
       "122      Paul O'Brien  CEO of MediaTech Ventures, CMO to #VC, #Startu...   \n",
       "537      NEXT Academy  We are South East Asia’s best tech school focu...   \n",
       "518       Todd Zipper  Todd Zipper serves as President and Chief Exec...   \n",
       "269  Mike Grandinetti  Serial VC-backed Entrepreneur, Sr.Lecturer MIT...   \n",
       "510      David Smooke  https://hackernoon.com/ publisher/writer. doin...   \n",
       "428      Rithm School  18 week program on #JavaScript #ReactJS and #P...   \n",
       "441       Kyle Thayer  I am a PhD student studying programming, cultu...   \n",
       "206       Rae Lambert  Creator of Small Space, Big Taste. A digital m...   \n",
       "325        Osei Bonsu  CTO of the College Consortium and Instructor a...   \n",
       "30   Kamrin Klauschie        Be the hustle you wish to see in the world.   \n",
       "\n",
       "                                                 title                 date  \\\n",
       "122  From Cambridge to Coffee Barista, How Universi...  2018-08-23 20:53:52   \n",
       "537  Why Rushing To College Shouldn’t Be Your Top P...  2016-12-01 10:34:25   \n",
       "518  How EQUIP Affects Higher Education – Uncomprom...  2016-09-01 13:11:39   \n",
       "269  Rise of the ‘self-taught’ developer disrupting...  2016-09-01 14:29:04   \n",
       "510  Fullstack Academy — the Founders, the Philosop...  2018-05-08 17:43:40   \n",
       "428  Alumni Spotlight: Daniel Szabo – Rithm School ...  2018-08-16 22:49:53   \n",
       "441  Coding Bootcamps vs. Computer Science Degrees:...  2018-03-02 15:56:15   \n",
       "206  There’s a cheaper, faster way to build skills ...  2018-10-05 21:08:27   \n",
       "325  What Does the Rise of the Coding Boot Camp Mea...  2018-05-09 19:07:42   \n",
       "30   How To Choose a Bootcamp Like a Bootcamp Emplo...  2018-04-05 06:18:07   \n",
       "\n",
       "      publisher                                               text  \\\n",
       "122      medium  From Cambridge to Coffee Barista, How Universi...   \n",
       "537      medium  Why Rushing To College Shouldn’t Be Your Top P...   \n",
       "518      medium  How E Q U I P Affects Higher Education I’ve ta...   \n",
       "269      medium  Rise of the ‘self-taught’ developer disrupting...   \n",
       "510  hackernoon  Fullstack Academy — the Founders, the Philosop...   \n",
       "428      medium  Alumni Spotlight: Daniel Szabo Daniel came to ...   \n",
       "441      medium  Coding Bootcamps vs. Computer Science Degrees:...   \n",
       "206      medium  There’s a cheaper, faster way to build skills ...   \n",
       "325      medium  What Does the Rise of the Coding Boot Camp Mea...   \n",
       "30       medium  How To Choose a Bootcamp Like a Bootcamp Emplo...   \n",
       "\n",
       "                                                  tags  \\\n",
       "122  ['Education', 'Schools', 'University', 'Entrep...   \n",
       "537  ['College', 'Coding Bootcamp', 'Personal Devel...   \n",
       "518  ['Trending In Higher Ed', 'Coding Bootcamp', '...   \n",
       "269  ['Programming', 'Education', 'Codingbootcamp',...   \n",
       "510  ['Fullstack Academy', 'Fullstack Founders', 'C...   \n",
       "428  ['Programming', 'Engineering', 'Codingbootcamp...   \n",
       "441  ['Programming', 'Computer Science', 'Codingboo...   \n",
       "206  ['Education Reform', 'Codingbootcamp', 'Techno...   \n",
       "325  ['Education', 'Technology', 'Codingbootcamp', ...   \n",
       "30   ['Programming', 'Education', 'Software', 'Codi...   \n",
       "\n",
       "                                                   url  score  \n",
       "122  https://medium.com/@seobrien/from-cambridge-to...     30  \n",
       "537  https://medium.com/@NEXTAcademy_/why-rushing-t...     25  \n",
       "518  https://medium.com/uncompromising-edu/how-equi...     24  \n",
       "269  https://medium.com/@mikegrand1/rise-of-the-sel...     20  \n",
       "510  https://hackernoon.com/fullstack-academy-the-f...     19  \n",
       "428  https://medium.com/@rithmschool/alumni-spotlig...     18  \n",
       "441  https://medium.com/bits-and-behavior/coding-bo...     18  \n",
       "206  https://medium.com/@raechel.lambert/theres-a-c...     17  \n",
       "325  https://medium.com/college-consortium/what-doe...     17  \n",
       "30   https://medium.com/apprenticeship-io/how-to-ch...     17  "
      ]
     },
     "execution_count": 6,
     "metadata": {},
     "output_type": "execute_result"
    }
   ],
   "source": [
    "codingbootcamp_info.sort_values(by=['score'], ascending=False).iloc[:10]"
   ]
  },
  {
   "cell_type": "markdown",
   "metadata": {},
   "source": [
    "## Bootcamp Association\n",
    "We want to search an article's author biography and article text to see if it contains a reference to a coding bootcamp in a compiled list "
   ]
  },
  {
   "cell_type": "code",
   "execution_count": 7,
   "metadata": {},
   "outputs": [
    {
     "data": {
      "text/html": [
       "<div>\n",
       "<style scoped>\n",
       "    .dataframe tbody tr th:only-of-type {\n",
       "        vertical-align: middle;\n",
       "    }\n",
       "\n",
       "    .dataframe tbody tr th {\n",
       "        vertical-align: top;\n",
       "    }\n",
       "\n",
       "    .dataframe thead th {\n",
       "        text-align: right;\n",
       "    }\n",
       "</style>\n",
       "<table border=\"1\" class=\"dataframe\">\n",
       "  <thead>\n",
       "    <tr style=\"text-align: right;\">\n",
       "      <th></th>\n",
       "      <th>name</th>\n",
       "    </tr>\n",
       "  </thead>\n",
       "  <tbody>\n",
       "    <tr>\n",
       "      <th>0</th>\n",
       "      <td>Alchemy Code Lab</td>\n",
       "    </tr>\n",
       "    <tr>\n",
       "      <th>1</th>\n",
       "      <td>App Academy</td>\n",
       "    </tr>\n",
       "    <tr>\n",
       "      <th>2</th>\n",
       "      <td>Array School of Technology and Design</td>\n",
       "    </tr>\n",
       "    <tr>\n",
       "      <th>3</th>\n",
       "      <td>Awesome Inc</td>\n",
       "    </tr>\n",
       "    <tr>\n",
       "      <th>4</th>\n",
       "      <td>Bitmaker General Assembly</td>\n",
       "    </tr>\n",
       "  </tbody>\n",
       "</table>\n",
       "</div>"
      ],
      "text/plain": [
       "                                    name\n",
       "0                       Alchemy Code Lab\n",
       "1                            App Academy\n",
       "2  Array School of Technology and Design\n",
       "3                            Awesome Inc\n",
       "4              Bitmaker General Assembly"
      ]
     },
     "execution_count": 7,
     "metadata": {},
     "output_type": "execute_result"
    }
   ],
   "source": [
    "# Read in compiled list\n",
    "bootcamp_extra_info = pd.read_csv(\"bootcamp_list.csv\")\n",
    "# Use iloc to get rid of nans and notes from original spreadsheet\n",
    "bootcamps = bootcamp_extra_info[['Name (2014)']].iloc[:132].rename(columns={'Name (2014)': 'name'}) \n",
    "bootcamps.head()"
   ]
  },
  {
   "cell_type": "code",
   "execution_count": 8,
   "metadata": {},
   "outputs": [
    {
     "data": {
      "text/plain": [
       "\"AlchemyCodeLab|AppAcademy|ArraySchoolofTechnologyandDesign|AwesomeInc|BitmakerGeneralAssembly|Bottega|BrainStation|BurlingtonCodeAcademy|ByteAcademy|ClaimAcademy|CodeCareerAcademy|CodeFellows|CodeCoreBootcamp|CodeCraftSchool|CodePartners|Codeup|CodingDojo|DecodeMTL|DevBootcamp|DevLeague|DevMountain|DevPointLabs|DigitalCrafts|FullstackAcademy|Galvanize|GeneralAssembly|HackReactor|HackbrightAcademy|HackerYou|HelioTraining|HolbertonSchool|HorizonsAcademy|HunterBusinessSchool|Ironhack|LaunchCode|LearningFuze|LighthouseLabs|MakerSquare|Metis|NewYorkCode+DesignAcademy|OperationSpark|OrangeCountyCodeSchool|PDXCodeGuild|PrimeDigitalAcademy|TheTechAcademy|REDAcademy|RefactorU|LEARNAcademy|SeedPaths|SkillDistillery|TechElevator|FlatironSchool|TheIronYard|TuringSchool|VSchool|Wyncode|Epicodus|CodeBuilders|CodeMastersAcademy|CodeNinja|CodingHouse|Dev/IowaBootcamp|GTTAcademy|GuildofSoftwareArchitects|MobileMakersAcademy|PortlandCodeSchool|Rocket-U|SiliconStemAcademy|ThinkAcademy|UpscaleAcademy|StarterLeague|HackDojo|FireBootcamp|ArkansasCodingAcademy|DeltaVCodeSchool|GainesvilleDevAcademy|Momentum|SDCodeBootcamp|TheClubhou.seCodeBootcamp|C4QAccessCode|CoderVox|CoderFoundry|AcademyPittsburgh|AcclaimEducation|BlueOceanCoding|BoiseCodeWorks|ClevelandCodes|CodePlatoon|CodeTahoe|CodedByU|CoderCamps|Codesmith|CodingTemple|CultivatingCoders|devCodeCamp|DisruptionInstitute|ElevenFiftyAcademy|GrandCircus|i2LabsAcademy|InnovateBirmingham|JRSCodingSchool|KenzieAcademy|LaunchAcademy|MakeSchool|MontanaCodeSchool|NashvilleSoftwareSchool|OmahaCodeSchool|OriginCodeAcademy|ProjectShift|PunchCode|RedwoodCodeAcademy|ResilientCoders|Revature|RithmSchool|Sabio|SoftstackFactory|StartupInstitute|TechTalentSouth|Techtonica|Tradecraft|TurnToTech|WeCanCodeIT|ZipCodeWilmington|BigSkyCodeAcademy|CookSystemsFastTrack'd|GraceHopperAcademy|CincyCodeIT|CraftsmanshipAcademy|Covalence|TheSoftwareGuild|DeepDiveCoders|AdaDevelopersAcademy\""
      ]
     },
     "execution_count": 8,
     "metadata": {},
     "output_type": "execute_result"
    }
   ],
   "source": [
    "# Create regex patterns to search for bootcamps\n",
    "original_names_pattern = \"|\".join(bootcamps['name'].values) # Names stay as is\n",
    "# Get rid of spaces in names to find mentions like social media handles\n",
    "bootcamps_w_o_spaces = bootcamps['name'].str.replace(\" \", \"\")\n",
    "bootcamps_w_o_spaces_pattern = \"|\".join(bootcamps_w_o_spaces.values)\n",
    "bootcamps_w_o_spaces_pattern"
   ]
  },
  {
   "cell_type": "code",
   "execution_count": 9,
   "metadata": {},
   "outputs": [],
   "source": [
    "def find_school_in_bio_and_text(df_row, lst_of_patterns):\n",
    "    \"\"\" Find all bootcamps mentioned in the author bio and article text\n",
    "    df_row: row of Codingbootcamp_info data frame\n",
    "    lst_of_patterns: list of string patterns to pass to regex searcher\n",
    "    Returns:\n",
    "        list of all bootcamp names found as strings\n",
    "    \"\"\"\n",
    "    # Collector list to dump all found schools in (including repeats)\n",
    "    found_schools_with_duplicates = []\n",
    "    # For each pattern - this accounts for formatting issues\n",
    "    for pattern in lst_of_patterns:\n",
    "        #search in bio if bio is not none or nan\n",
    "        if df_row['author_bio'] and not pd.isnull(df_row['author_bio']):\n",
    "            found_schools_with_duplicates.extend(re.findall(pattern, df_row['author_bio']))\n",
    "        #search in article text if text is not none or nan\n",
    "        if df_row['text'] and not pd.isnull(df_row['text']):\n",
    "            found_schools_with_duplicates.extend(re.findall(pattern, df_row['text']))\n",
    "    #Use dictionary instead of list for searching for duplicates bc much faster\n",
    "    unique_schools = {}\n",
    "    for s in found_schools_with_duplicates:\n",
    "        if not unique_schools.get(s):\n",
    "            unique_schools[s] = '0' #don't actually care about dict values so set to placeholder\n",
    "    # return found schools as list\n",
    "    return list(unique_schools.keys())"
   ]
  },
  {
   "cell_type": "code",
   "execution_count": 10,
   "metadata": {},
   "outputs": [],
   "source": [
    "pattern_list = [original_names_pattern, bootcamps_w_o_spaces_pattern]\n",
    "result_series = codingbootcamp_info.apply(lambda row: find_school_in_bio_and_text(row, pattern_list), axis=1)"
   ]
  },
  {
   "cell_type": "code",
   "execution_count": 11,
   "metadata": {},
   "outputs": [
    {
     "data": {
      "text/html": [
       "<div>\n",
       "<style scoped>\n",
       "    .dataframe tbody tr th:only-of-type {\n",
       "        vertical-align: middle;\n",
       "    }\n",
       "\n",
       "    .dataframe tbody tr th {\n",
       "        vertical-align: top;\n",
       "    }\n",
       "\n",
       "    .dataframe thead th {\n",
       "        text-align: right;\n",
       "    }\n",
       "</style>\n",
       "<table border=\"1\" class=\"dataframe\">\n",
       "  <thead>\n",
       "    <tr style=\"text-align: right;\">\n",
       "      <th></th>\n",
       "      <th>author</th>\n",
       "      <th>author_bio</th>\n",
       "      <th>title</th>\n",
       "      <th>date</th>\n",
       "      <th>publisher</th>\n",
       "      <th>text</th>\n",
       "      <th>tags</th>\n",
       "      <th>url</th>\n",
       "      <th>score</th>\n",
       "      <th>bootcamps</th>\n",
       "    </tr>\n",
       "  </thead>\n",
       "  <tbody>\n",
       "    <tr>\n",
       "      <th>0</th>\n",
       "      <td>Gregorio Rojas</td>\n",
       "      <td>Founder @WeSabio - #LearnToCode - I Blog @ htt...</td>\n",
       "      <td>LinkedIn Outcomes Report of Coding Bootcamps –...</td>\n",
       "      <td>2016-06-01 22:46:01</td>\n",
       "      <td>wesabio</td>\n",
       "      <td>Linked In Outcomes Report of Coding Bootcamps ...</td>\n",
       "      <td>['Learning To Code', 'Coding Bootcamps']</td>\n",
       "      <td>https://researchcodingbootcamps.com/linkedin-o...</td>\n",
       "      <td>10</td>\n",
       "      <td>[Sabio]</td>\n",
       "    </tr>\n",
       "    <tr>\n",
       "      <th>1</th>\n",
       "      <td>Emily Deans</td>\n",
       "      <td>Washington, D.C.-based web developer. Former c...</td>\n",
       "      <td>Middleware/End of Week – Emily Deans – Medium</td>\n",
       "      <td>2017-07-28 20:01:22</td>\n",
       "      <td>medium</td>\n",
       "      <td>Middleware/ End of Week The last few days we’v...</td>\n",
       "      <td>['JavaScript', 'Lesbians Who Tech', 'Women Who...</td>\n",
       "      <td>https://medium.com/@emilyldeans/middleware-end...</td>\n",
       "      <td>0</td>\n",
       "      <td>[The Iron Yard]</td>\n",
       "    </tr>\n",
       "    <tr>\n",
       "      <th>2</th>\n",
       "      <td>Verity Honebon</td>\n",
       "      <td>NaN</td>\n",
       "      <td>Week 6 — working in groups (Airbnb clone) – Ve...</td>\n",
       "      <td>2017-07-31 10:57:36</td>\n",
       "      <td>medium</td>\n",
       "      <td>Week 6 — working in groups ( Airbnb clone) The...</td>\n",
       "      <td>['Agile', 'Codingbootcamp', 'Coding', 'Teamwor...</td>\n",
       "      <td>https://medium.com/@verityhonebon/week-6-worki...</td>\n",
       "      <td>1</td>\n",
       "      <td>[]</td>\n",
       "    </tr>\n",
       "    <tr>\n",
       "      <th>3</th>\n",
       "      <td>Emily Chai</td>\n",
       "      <td>A student at Maker’s, aspiring full stack deve...</td>\n",
       "      <td>Hunting for a first job as a developer – Emily...</td>\n",
       "      <td>2017-05-13 10:44:31</td>\n",
       "      <td>medium</td>\n",
       "      <td>Hunting for a first job as a developer Passing...</td>\n",
       "      <td>['Job Hunting', 'Developer', 'Makersacademy', ...</td>\n",
       "      <td>https://medium.com/@emilyxchai/hunting-for-a-f...</td>\n",
       "      <td>0</td>\n",
       "      <td>[]</td>\n",
       "    </tr>\n",
       "    <tr>\n",
       "      <th>4</th>\n",
       "      <td>Jackson McGehee</td>\n",
       "      <td>Web Dev | Software Engineer | Creative Strateg...</td>\n",
       "      <td>Notes from U̶n̶d̶e̶r̶g̶r̶o̶u̶n̶d̶ Week Nine – ...</td>\n",
       "      <td>2018-02-02 17:30:29</td>\n",
       "      <td>medium</td>\n",
       "      <td>Notes from U̶n̶d̶e̶r̶g̶r̶o̶u̶n̶d̶ Week Nine I ...</td>\n",
       "      <td>['Web Development', 'JavaScript', 'Codingbootc...</td>\n",
       "      <td>https://medium.com/@jacksonfullstack/notes-fro...</td>\n",
       "      <td>0</td>\n",
       "      <td>[General Assembly]</td>\n",
       "    </tr>\n",
       "  </tbody>\n",
       "</table>\n",
       "</div>"
      ],
      "text/plain": [
       "            author                                         author_bio  \\\n",
       "0   Gregorio Rojas  Founder @WeSabio - #LearnToCode - I Blog @ htt...   \n",
       "1      Emily Deans  Washington, D.C.-based web developer. Former c...   \n",
       "2   Verity Honebon                                                NaN   \n",
       "3       Emily Chai  A student at Maker’s, aspiring full stack deve...   \n",
       "4  Jackson McGehee  Web Dev | Software Engineer | Creative Strateg...   \n",
       "\n",
       "                                               title                 date  \\\n",
       "0  LinkedIn Outcomes Report of Coding Bootcamps –...  2016-06-01 22:46:01   \n",
       "1      Middleware/End of Week – Emily Deans – Medium  2017-07-28 20:01:22   \n",
       "2  Week 6 — working in groups (Airbnb clone) – Ve...  2017-07-31 10:57:36   \n",
       "3  Hunting for a first job as a developer – Emily...  2017-05-13 10:44:31   \n",
       "4  Notes from U̶n̶d̶e̶r̶g̶r̶o̶u̶n̶d̶ Week Nine – ...  2018-02-02 17:30:29   \n",
       "\n",
       "  publisher                                               text  \\\n",
       "0   wesabio  Linked In Outcomes Report of Coding Bootcamps ...   \n",
       "1    medium  Middleware/ End of Week The last few days we’v...   \n",
       "2    medium  Week 6 — working in groups ( Airbnb clone) The...   \n",
       "3    medium  Hunting for a first job as a developer Passing...   \n",
       "4    medium  Notes from U̶n̶d̶e̶r̶g̶r̶o̶u̶n̶d̶ Week Nine I ...   \n",
       "\n",
       "                                                tags  \\\n",
       "0           ['Learning To Code', 'Coding Bootcamps']   \n",
       "1  ['JavaScript', 'Lesbians Who Tech', 'Women Who...   \n",
       "2  ['Agile', 'Codingbootcamp', 'Coding', 'Teamwor...   \n",
       "3  ['Job Hunting', 'Developer', 'Makersacademy', ...   \n",
       "4  ['Web Development', 'JavaScript', 'Codingbootc...   \n",
       "\n",
       "                                                 url  score  \\\n",
       "0  https://researchcodingbootcamps.com/linkedin-o...     10   \n",
       "1  https://medium.com/@emilyldeans/middleware-end...      0   \n",
       "2  https://medium.com/@verityhonebon/week-6-worki...      1   \n",
       "3  https://medium.com/@emilyxchai/hunting-for-a-f...      0   \n",
       "4  https://medium.com/@jacksonfullstack/notes-fro...      0   \n",
       "\n",
       "            bootcamps  \n",
       "0             [Sabio]  \n",
       "1     [The Iron Yard]  \n",
       "2                  []  \n",
       "3                  []  \n",
       "4  [General Assembly]  "
      ]
     },
     "execution_count": 11,
     "metadata": {},
     "output_type": "execute_result"
    }
   ],
   "source": [
    "codingbootcamp_info['bootcamps'] = result_series\n",
    "codingbootcamp_info.head()"
   ]
  },
  {
   "cell_type": "markdown",
   "metadata": {},
   "source": [
    "We can see the distribution of the number of camps each author is assoicated with:"
   ]
  },
  {
   "cell_type": "code",
   "execution_count": 12,
   "metadata": {},
   "outputs": [
    {
     "data": {
      "text/plain": [
       "0     691\n",
       "1     298\n",
       "2      29\n",
       "3      10\n",
       "4       4\n",
       "5       2\n",
       "6       1\n",
       "12      1\n",
       "Name: num_bootcamps, dtype: int64"
      ]
     },
     "execution_count": 12,
     "metadata": {},
     "output_type": "execute_result"
    }
   ],
   "source": [
    "# Function to count num mentioned in each row\n",
    "nums = codingbootcamp_info['bootcamps'].apply(lambda l: len(l))\n",
    "codingbootcamp_info['num_bootcamps'] = nums\n",
    "codingbootcamp_info['num_bootcamps'].value_counts().sort_index(ascending=True)"
   ]
  },
  {
   "cell_type": "markdown",
   "metadata": {},
   "source": [
    "From the above distribution, we can conclude that the majority of articles or author biographies did not mention any bootcamps, while many mentioned just one (most likely their alma mater). We hypthosize that the records that indicate more than one bootcamp are most likely comparing different bootcamps, either by personal experience or through marketing matierals.  \n",
    "If we want to see all the different bootcamps mentioned:"
   ]
  },
  {
   "cell_type": "code",
   "execution_count": 13,
   "metadata": {},
   "outputs": [
    {
     "data": {
      "text/plain": [
       "The Iron Yard             69\n",
       "Hack Reactor              44\n",
       "Sabio                     44\n",
       "General Assembly          36\n",
       "Fullstack Academy         30\n",
       "Dev Bootcamp              30\n",
       "Flatiron School           24\n",
       "App Academy               14\n",
       "Ironhack                  13\n",
       "Codesmith                 10\n",
       "Galvanize                  9\n",
       "Redwood Code Academy       8\n",
       "Momentum                   7\n",
       "Coding Dojo                7\n",
       "Code Fellows               7\n",
       "Rithm School               6\n",
       "The Software Guild         5\n",
       "Code Platoon               5\n",
       "Hackbright Academy         5\n",
       "Turing School              5\n",
       "Wyncode                    4\n",
       "V School                   4\n",
       "Techtonica                 4\n",
       "TheIronYard                4\n",
       "DevMountain                4\n",
       "Lighthouse Labs            3\n",
       "Coding Temple              3\n",
       "Launch Academy             3\n",
       "Epicodus                   2\n",
       "Grand Circus               2\n",
       "Codeup                     2\n",
       "Starter League             2\n",
       "Coder Foundry              1\n",
       "Resilient Coders           1\n",
       "Coding House               1\n",
       "Alchemy Code Lab           1\n",
       "Metis                      1\n",
       "Grace Hopper Academy       1\n",
       "Ada Developers Academy     1\n",
       "The Tech Academy           1\n",
       "Startup Institute          1\n",
       "Prime Digital Academy      1\n",
       "Cultivating Coders         1\n",
       "Mobile Makers Academy      1\n",
       "Byte Academy               1\n",
       "HackerYou                  1\n",
       "Claim Academy              1\n",
       "dtype: int64"
      ]
     },
     "execution_count": 13,
     "metadata": {},
     "output_type": "execute_result"
    }
   ],
   "source": [
    "# Collector variable\n",
    "bootcamps_mentioned = []\n",
    "def retrieve_camps(camp_list):\n",
    "    # Add bootcamps found to list\n",
    "    bootcamps_mentioned.extend(camp_list)\n",
    "# apply function to the list in each row\n",
    "codingbootcamp_info['bootcamps'].apply(retrieve_camps)\n",
    "# Turn into series to use panda functions\n",
    "binned_bootcamps = pd.Series(bootcamps_mentioned).value_counts().sort_values(ascending=False)\n",
    "binned_bootcamps"
   ]
  },
  {
   "cell_type": "markdown",
   "metadata": {},
   "source": [
    "Interestingly, [The Iron Yard](https://www.bloc.io/learn-to-code/bc/the-iron-yard) is the most mentioned bootcamp. I noticed while browsing the records a lot of authors mentioned the schools social handle @TheIronYard, so it would be interesting further research to determine whether this school offered incentives for current and former students to tag the school, or if these students simply loved their school the most.\n",
    "\n",
    "In contrast, the second highest mentioned school, Sabio, is mentioned in conjunction with a lot of marketing matieral. While doing a random sample of publishers, we discovered that Sabio publishes many posts under the company's name (rather than a current or former student mentioning the bootcamp), as a another marketing technique. Many potential students of bootcamps perhaps use the articles on Medium to evaluate if a coding bootcamp is the right path for them, and if so, which bootcamp is the best fit for them? Sabio is most likely trying to target that demographic with these promotional articles."
   ]
  },
  {
   "cell_type": "markdown",
   "metadata": {},
   "source": [
    "## Publisher Analysis\n",
    "Each article on Medium has a `publisher` meta html tag, to display if an article is associated with some brand or company. If the article is from a personal blog, the publisher is listed as `medium`. It would be interesting to see the breakdown of publishers in our dataset, to see if we can spot any trends. "
   ]
  },
  {
   "cell_type": "code",
   "execution_count": 14,
   "metadata": {},
   "outputs": [
    {
     "data": {
      "text/plain": [
       "medium                     954\n",
       "wesabio                     44\n",
       "code.likeagirl.io           10\n",
       "makersacademy                9\n",
       "hackernoon                   8\n",
       "codeburst                    4\n",
       "ubiqum                       3\n",
       "PrototyprIO                  1\n",
       "fundapps                     1\n",
       "propulsioncodingacademy      1\n",
       "itnext.io                    1\n",
       "Name: publisher, dtype: int64"
      ]
     },
     "execution_count": 14,
     "metadata": {},
     "output_type": "execute_result"
    }
   ],
   "source": [
    "publisher_count = codingbootcamp_info['publisher'].value_counts().sort_values(ascending=False)\n",
    "publisher_count"
   ]
  },
  {
   "cell_type": "code",
   "execution_count": 15,
   "metadata": {},
   "outputs": [
    {
     "data": {
      "text/plain": [
       "medium                     0.920849\n",
       "wesabio                    0.042471\n",
       "code.likeagirl.io          0.009653\n",
       "makersacademy              0.008687\n",
       "hackernoon                 0.007722\n",
       "codeburst                  0.003861\n",
       "ubiqum                     0.002896\n",
       "PrototyprIO                0.000965\n",
       "fundapps                   0.000965\n",
       "propulsioncodingacademy    0.000965\n",
       "itnext.io                  0.000965\n",
       "Name: publisher, dtype: float64"
      ]
     },
     "execution_count": 15,
     "metadata": {},
     "output_type": "execute_result"
    }
   ],
   "source": [
    "#Proportions\n",
    "publisher_count/codingbootcamp_info.shape[0]"
   ]
  },
  {
   "cell_type": "markdown",
   "metadata": {},
   "source": [
    "From this output, we can see that most articles tagged with `Codingbootcamp` are self-published by individual contributors (evidenced by the 954 articles published by `Medium`).  \n",
    "\n",
    "[Sabio](https://sabio.la/), a bootcamp, is the next highest publisher. Perusals of the articles published by Sabio show most of them are marketing matierals, as mentioned above, that go into a particular student's interesting background, motivations for attending bootcamp, and of course, success stories. "
   ]
  },
  {
   "cell_type": "code",
   "execution_count": 17,
   "metadata": {},
   "outputs": [
    {
     "data": {
      "text/html": [
       "<div>\n",
       "<style scoped>\n",
       "    .dataframe tbody tr th:only-of-type {\n",
       "        vertical-align: middle;\n",
       "    }\n",
       "\n",
       "    .dataframe tbody tr th {\n",
       "        vertical-align: top;\n",
       "    }\n",
       "\n",
       "    .dataframe thead th {\n",
       "        text-align: right;\n",
       "    }\n",
       "</style>\n",
       "<table border=\"1\" class=\"dataframe\">\n",
       "  <thead>\n",
       "    <tr style=\"text-align: right;\">\n",
       "      <th></th>\n",
       "      <th>author</th>\n",
       "      <th>author_bio</th>\n",
       "      <th>title</th>\n",
       "      <th>date</th>\n",
       "      <th>publisher</th>\n",
       "      <th>text</th>\n",
       "      <th>tags</th>\n",
       "      <th>url</th>\n",
       "      <th>score</th>\n",
       "      <th>bootcamps</th>\n",
       "      <th>num_bootcamps</th>\n",
       "    </tr>\n",
       "  </thead>\n",
       "  <tbody>\n",
       "    <tr>\n",
       "      <th>0</th>\n",
       "      <td>Gregorio Rojas</td>\n",
       "      <td>Founder @WeSabio - #LearnToCode - I Blog @ htt...</td>\n",
       "      <td>LinkedIn Outcomes Report of Coding Bootcamps –...</td>\n",
       "      <td>2016-06-01 22:46:01</td>\n",
       "      <td>wesabio</td>\n",
       "      <td>Linked In Outcomes Report of Coding Bootcamps ...</td>\n",
       "      <td>['Learning To Code', 'Coding Bootcamps']</td>\n",
       "      <td>https://researchcodingbootcamps.com/linkedin-o...</td>\n",
       "      <td>10</td>\n",
       "      <td>[Sabio]</td>\n",
       "      <td>1</td>\n",
       "    </tr>\n",
       "    <tr>\n",
       "      <th>32</th>\n",
       "      <td>Sabio Coding Bootcamp</td>\n",
       "      <td>Lead by the most senior coding bootcamp staff ...</td>\n",
       "      <td>Raphael got his dream job thanks to Sabio….and...</td>\n",
       "      <td>2018-04-02 16:59:47</td>\n",
       "      <td>wesabio</td>\n",
       "      <td>Raphael got his dream job thanks to Sabio…. an...</td>\n",
       "      <td>['Programming', 'Coding', 'Learn To Code', 'Co...</td>\n",
       "      <td>https://blog.sabio.la/raphael-got-his-dream-jo...</td>\n",
       "      <td>0</td>\n",
       "      <td>[Sabio]</td>\n",
       "      <td>1</td>\n",
       "    </tr>\n",
       "    <tr>\n",
       "      <th>103</th>\n",
       "      <td>Sabio Coding Bootcamp</td>\n",
       "      <td>Lead by the most senior coding bootcamp staff ...</td>\n",
       "      <td>Jeslyn went from boring career path to excitin...</td>\n",
       "      <td>2018-05-28 19:58:24</td>\n",
       "      <td>wesabio</td>\n",
       "      <td>Jeslyn went from boring career path to excitin...</td>\n",
       "      <td>['Programming', 'Coding', 'Codingbootcamp', 'J...</td>\n",
       "      <td>https://blog.sabio.la/jeslyn-went-from-boring-...</td>\n",
       "      <td>3</td>\n",
       "      <td>[Sabio]</td>\n",
       "      <td>1</td>\n",
       "    </tr>\n",
       "    <tr>\n",
       "      <th>113</th>\n",
       "      <td>Sabio Coding Bootcamp</td>\n",
       "      <td>Lead by the most senior coding bootcamp staff ...</td>\n",
       "      <td>Animal Friendly Poor Dawg teams up with Sabio ...</td>\n",
       "      <td>2018-08-23 17:42:34</td>\n",
       "      <td>wesabio</td>\n",
       "      <td>Animal Friendly Poor Dawg teams up with Sabio ...</td>\n",
       "      <td>['Dogs', 'Apps', 'Codingbootcamp', 'Coding', '...</td>\n",
       "      <td>https://blog.sabio.la/animal-friendly-poor-daw...</td>\n",
       "      <td>0</td>\n",
       "      <td>[Sabio]</td>\n",
       "      <td>1</td>\n",
       "    </tr>\n",
       "    <tr>\n",
       "      <th>179</th>\n",
       "      <td>Sabio Coding Bootcamp</td>\n",
       "      <td>Lead by the most senior coding bootcamp staff ...</td>\n",
       "      <td>Women in Gaming – Sabio Coding Bootcamp</td>\n",
       "      <td>2018-09-05 21:11:27</td>\n",
       "      <td>wesabio</td>\n",
       "      <td>Women in Gaming Had a fantastic time last week...</td>\n",
       "      <td>['Women In Tech', 'Technology', 'Gaming', 'Pro...</td>\n",
       "      <td>https://blog.sabio.la/women-in-gaming-283b8559...</td>\n",
       "      <td>0</td>\n",
       "      <td>[]</td>\n",
       "      <td>0</td>\n",
       "    </tr>\n",
       "  </tbody>\n",
       "</table>\n",
       "</div>"
      ],
      "text/plain": [
       "                    author                                         author_bio  \\\n",
       "0           Gregorio Rojas  Founder @WeSabio - #LearnToCode - I Blog @ htt...   \n",
       "32   Sabio Coding Bootcamp  Lead by the most senior coding bootcamp staff ...   \n",
       "103  Sabio Coding Bootcamp  Lead by the most senior coding bootcamp staff ...   \n",
       "113  Sabio Coding Bootcamp  Lead by the most senior coding bootcamp staff ...   \n",
       "179  Sabio Coding Bootcamp  Lead by the most senior coding bootcamp staff ...   \n",
       "\n",
       "                                                 title                 date  \\\n",
       "0    LinkedIn Outcomes Report of Coding Bootcamps –...  2016-06-01 22:46:01   \n",
       "32   Raphael got his dream job thanks to Sabio….and...  2018-04-02 16:59:47   \n",
       "103  Jeslyn went from boring career path to excitin...  2018-05-28 19:58:24   \n",
       "113  Animal Friendly Poor Dawg teams up with Sabio ...  2018-08-23 17:42:34   \n",
       "179            Women in Gaming – Sabio Coding Bootcamp  2018-09-05 21:11:27   \n",
       "\n",
       "    publisher                                               text  \\\n",
       "0     wesabio  Linked In Outcomes Report of Coding Bootcamps ...   \n",
       "32    wesabio  Raphael got his dream job thanks to Sabio…. an...   \n",
       "103   wesabio  Jeslyn went from boring career path to excitin...   \n",
       "113   wesabio  Animal Friendly Poor Dawg teams up with Sabio ...   \n",
       "179   wesabio  Women in Gaming Had a fantastic time last week...   \n",
       "\n",
       "                                                  tags  \\\n",
       "0             ['Learning To Code', 'Coding Bootcamps']   \n",
       "32   ['Programming', 'Coding', 'Learn To Code', 'Co...   \n",
       "103  ['Programming', 'Coding', 'Codingbootcamp', 'J...   \n",
       "113  ['Dogs', 'Apps', 'Codingbootcamp', 'Coding', '...   \n",
       "179  ['Women In Tech', 'Technology', 'Gaming', 'Pro...   \n",
       "\n",
       "                                                   url  score bootcamps  \\\n",
       "0    https://researchcodingbootcamps.com/linkedin-o...     10   [Sabio]   \n",
       "32   https://blog.sabio.la/raphael-got-his-dream-jo...      0   [Sabio]   \n",
       "103  https://blog.sabio.la/jeslyn-went-from-boring-...      3   [Sabio]   \n",
       "113  https://blog.sabio.la/animal-friendly-poor-daw...      0   [Sabio]   \n",
       "179  https://blog.sabio.la/women-in-gaming-283b8559...      0        []   \n",
       "\n",
       "     num_bootcamps  \n",
       "0                1  \n",
       "32               1  \n",
       "103              1  \n",
       "113              1  \n",
       "179              0  "
      ]
     },
     "execution_count": 17,
     "metadata": {},
     "output_type": "execute_result"
    }
   ],
   "source": [
    "wesabio_articles = codingbootcamp_info[codingbootcamp_info['publisher'] == 'wesabio']\n",
    "wesabio_articles.head()"
   ]
  },
  {
   "cell_type": "markdown",
   "metadata": {},
   "source": [
    "We can read the text of one of the articles:"
   ]
  },
  {
   "cell_type": "code",
   "execution_count": 21,
   "metadata": {},
   "outputs": [
    {
     "data": {
      "text/plain": [
       "'Jeslyn went from boring career path to exciting and lucrative job as . N E T Developer On the eve of a 26th birthday, most find themselves still searching for the career that feels (and pays) just right. Thanks to Sabio, Jeslyn however is already a successful . Net developer with nowhere to go but up. Yet, this clear path wasn’t always so laid out for her, like many at a younger age she was simply looking for a “good profession, ” and getting by working in corporate marketing. “ I got my masters, and I was going into a health profession, which to be honest, I wasn’t interested in personally. And that’s pretty much when I realized within my first year that I was doing well, but really not enjoying the classes or observations as much. ” It was lucky circumstance that just at that time a friend of hers was getting into coding and they both discovered Sabio. “ Literally a week from discovering it, I dropped out of my masters and went full fledged with Sabio. ” When asked why she put her eggs all in the Sabio basket, Jeslyn had an immediate response. “ Because they seemed, …just to put it bluntly, the most legitimate. I even have friends who went to other bootcamps, and I heard from them that the graduates from the bootcamps were the ones teach there, unlike Sabio which has actual industry professional. I also appreciated how they showed their stats, they had amazing reviews online where everyone repeatedly said, ‘trust in the system, ” and ‘within X amount of time you’ll get there. There was just a foundation and support that spoke for itself. I looked at other schools, but Sabio set such a high standard, no where else came close. ” Like many who attend Sabio, Jeslyn knew nothing about coding in the beginning. The day pre-work started was the first time she saw code, but that didn’t stop her from reaching all of her goals. “ That’s highly because of Sabio’s curriculum and their diligence, and just the whole framework. The whole process really helped me. Prework, getting a mixture of the difference language, as well as the cohort which had such intense immersiveness. All of those things together is really what helped solidify the education for me. ” Jeslyn felt especially lucky with her “amazing cohort. ” They were a constant backbone of support as she found her footing in the world of coding. “ Everyone was so sweet and helpful, even though I’m actually kind of an introvert. You’d think being on the same table with the same 14 people for ten hours a day would be a lot for me, but it really wasn’t. We helped each other and it was always a positive experience. Just the bonding with my other cohort mates while being inspired by them as well, it helped a lot. ” After graduation, (and even during, ) Jeslyn hit the ground running by applying for as many jobs as she could. “ I just did it the Sabio way, a ton of carpet bombing, as much interview practice as possible. I did exactly what they said and I think that’s what helped really nail it for me because especially after the first few interviews I felt really confident. So by my interview for the job I have now, I already had the confidence that I was going to get it. ” Jeslyn now works at I A P M O Group. and loves it. “ It was crazy because I literally interviewed at 9 A M that morning and at 3 P M got the job offer. ” As she currently flourishes at her job she remarks that the work environment is almost exactly like the environment at cohort. “ I think that was a big thing. A lot of people can teach themselves to code online, but what Sabio is able to give you is not only a quicker path to this, but they’re also able to give you the critique for it. I’m not just copying and pasting something from stack overflows, I know how to follow team standards, meet conventions, things like that. ” She also attributes a lot of her success to Sabio’s teaching methods and her instructor Mike Mc Granahan specifically. “ He taught us without ever actually giving the answers away, which I think is huge. They’re giving you the technique and skill set that you’re actually going to apply later on. As you get into more intense environments, you have to rely on yourself. Mike really helped prepare us for that. He was always kind of abstract, always with little hints, small stepping stones that get you there. I feel like that helps so much with learning how to stand out in the really world. I really can’t rave about him enough. He was so amazing. ” Jeslyn also attributed her tenacity to never give up from the Sabio communities constant support. “ When I was first getting rejections, I was feeling kind of down, then Liliana Monge ( Sabio’s Co- Founder and C E O, ) connected me to other Sabio grads who either just recently graduated or just landed a job. Talking with them was so helpful, just sharing our experiences together, made me realize I wasn’t alone, also hearing their tips. The community that Sabio provides is invaluable. It was because of those connections and pep talks I was about to set myself back up and find the determination that eventually got me this great job. ” Her love and support for the community continues to grow every day, “ I mean the community that they make is just phenomenal, because we’re all on the same page, this is all somewhat new to us, and we all just jumped into the page of 70 hours a week coding sessions and everyone is so there for each other. ” If you’re interested in coding and/or joining Sabio, Jeslyn says “ Just do it, ” plain and simple. “ A lot of people I feel are really hesitant, because it definitely can be a lot. And from someone who completely understands that, but who also went full-fledged into it and now is seeing the immense benefit of it, you literally just have to trust the process, it actually works. Just do go and do it. It will work for you. ” Ultimately for Jeslyn, she feels Sabio stands out because, “it’s evident they care about their Sabio fellows. And that really apparent through the instructors. The community. The whole package is really composed nicely. It can be intimidating, it can be intense, but the results of it are incredible. Here I am 9 months later as a . N E T developer and I didn’t even know what H T M L was last summer. ” Quotes by Jeslyn Leon, Written by Sassy Mohen, Sabio Head of Social Media & Interactive'"
      ]
     },
     "execution_count": 21,
     "metadata": {},
     "output_type": "execute_result"
    }
   ],
   "source": [
    "wesabio_articles['text'].iloc[2]"
   ]
  },
  {
   "cell_type": "markdown",
   "metadata": {},
   "source": [
    "## Number of Claps\n",
    "Medium has a \"clap\" button on each article which readers can click to show appreication for the article and its topic - similar to giving \"kudos\" to the author. The more claps an article has, the more popular it is.  \n",
    "\n",
    "We are interested in analyzing the number of claps for articles tagged with `Codingbootcamp` to see how the popularity of these articles varies. "
   ]
  },
  {
   "cell_type": "markdown",
   "metadata": {},
   "source": [
    "**Important Note**:\n",
    "I realized that parsing the number of claps for each article would be best done in the initial data collection, since it requires access to the parsed html.  \n",
    "However, when I tried to reaccess the tag archive on 2018-11-27, I noticed that the archive had completely disappeared. Articles are still tagged with `Codingbootcamp` but clicking on the archive leads to nothing.  \n",
    "Thankfully we collected the urls of each article in our dataset, so we have not lost all information.   \n",
    "\n",
    "We will simply have to have some redundant code - I need to reparse all the html of each article, which requires copying the `simple_get_article` function from the `article_data_collection.ipynb` notebook. We are slightly violating our separation of data collection and analysis here, but its necessary to retrieve this information after the wiping of the archive. "
   ]
  },
  {
   "cell_type": "code",
   "execution_count": 22,
   "metadata": {},
   "outputs": [],
   "source": [
    "# THis is copied from article_data_collection.ipynb\n",
    "# Define get function to get raw HTML\n",
    "def simple_get_article(url):\n",
    "    \"\"\"\n",
    "    Attempts to get the content at `url` by making an HTTP GET request.\n",
    "    If the content-type of response is some kind of HTML/XML, return the\n",
    "    text content, otherwise return None.\n",
    "    \"\"\"\n",
    "    try:\n",
    "        #closing ensures any network resources are freed when out of scope - good practice\n",
    "        with closing(get(url, stream=True)) as resp: \n",
    "            if is_good_response(resp):\n",
    "                return resp.content\n",
    "            else:\n",
    "                return None\n",
    "\n",
    "    except RequestException as e:\n",
    "        log_error('Error during requests to {0} : {1}'.format(url, str(e)))\n",
    "        return None\n",
    "def is_good_response(resp):\n",
    "    \"\"\"\n",
    "    Returns True if the response seems to be HTML, False otherwise.\n",
    "    \"\"\"\n",
    "    content_type = resp.headers['Content-Type'].lower()\n",
    "    return (resp.status_code == 200 \n",
    "            and content_type is not None \n",
    "            and content_type.find('html') > -1)\n",
    "\n",
    "\n",
    "def log_error(e):\n",
    "    \"\"\"\n",
    "    It is always a good idea to log errors. \n",
    "    This function just prints them, but you can\n",
    "    make it do anything.\n",
    "    \"\"\"\n",
    "    print(e)"
   ]
  },
  {
   "cell_type": "code",
   "execution_count": 29,
   "metadata": {},
   "outputs": [],
   "source": [
    "def get_claps_from_parsed(parsed_html):\n",
    "    \"\"\"Extracts the number of claps (\"kudos\" from readers) for an article\n",
    "    Arguments:\n",
    "        parsed_html: object returned by calling `BeautifulSoup(raw_html, 'html.parser')`\n",
    "    Returns: the number of claps as a string\n",
    "    \"\"\"\n",
    "    # Helper boolean function to search through parsed tags for clap button\n",
    "    def is_clap_button(tag):\n",
    "        return tag.get('data-action') == 'show-recommends'\n",
    "    buttons = parsed_html.find_all(is_clap_button)\n",
    "    # If this type of button is found\n",
    "    if buttons:\n",
    "        # The clap button is displayed twice on a page, both list the same numbers so \n",
    "        # arbitrarily take the first one\n",
    "        return buttons[0].text\n",
    "    else:\n",
    "        return '0'\n",
    "\n",
    "def get_claps_from_url(url):\n",
    "    \"\"\"Parses the html of a given url and returns the number of claps that article has. \n",
    "    url: String of article url\n",
    "    Returns: Number of claps as string\n",
    "    \"\"\"\n",
    "    raw_html = simple_get_article(url)\n",
    "    if raw_html:\n",
    "        parsed = BeautifulSoup(raw_html, 'html.parser')\n",
    "        return get_claps_from_parsed(parsed).split(\" \")[0]\n",
    "    else:\n",
    "        return '0'"
   ]
  },
  {
   "cell_type": "code",
   "execution_count": 30,
   "metadata": {},
   "outputs": [],
   "source": [
    "# I include date in col name bc claps is an ever changing number\n",
    "codingbootcamp_info['claps 2018-11-27'] = codingbootcamp_info['url'].apply(get_claps_from_url)"
   ]
  },
  {
   "cell_type": "code",
   "execution_count": 31,
   "metadata": {},
   "outputs": [
    {
     "data": {
      "text/html": [
       "<div>\n",
       "<style scoped>\n",
       "    .dataframe tbody tr th:only-of-type {\n",
       "        vertical-align: middle;\n",
       "    }\n",
       "\n",
       "    .dataframe tbody tr th {\n",
       "        vertical-align: top;\n",
       "    }\n",
       "\n",
       "    .dataframe thead th {\n",
       "        text-align: right;\n",
       "    }\n",
       "</style>\n",
       "<table border=\"1\" class=\"dataframe\">\n",
       "  <thead>\n",
       "    <tr style=\"text-align: right;\">\n",
       "      <th></th>\n",
       "      <th>author</th>\n",
       "      <th>author_bio</th>\n",
       "      <th>title</th>\n",
       "      <th>date</th>\n",
       "      <th>publisher</th>\n",
       "      <th>text</th>\n",
       "      <th>tags</th>\n",
       "      <th>url</th>\n",
       "      <th>score</th>\n",
       "      <th>bootcamps</th>\n",
       "      <th>num_bootcamps</th>\n",
       "      <th>claps 2018-11-27</th>\n",
       "    </tr>\n",
       "  </thead>\n",
       "  <tbody>\n",
       "    <tr>\n",
       "      <th>0</th>\n",
       "      <td>Gregorio Rojas</td>\n",
       "      <td>Founder @WeSabio - #LearnToCode - I Blog @ htt...</td>\n",
       "      <td>LinkedIn Outcomes Report of Coding Bootcamps –...</td>\n",
       "      <td>2016-06-01 22:46:01</td>\n",
       "      <td>wesabio</td>\n",
       "      <td>Linked In Outcomes Report of Coding Bootcamps ...</td>\n",
       "      <td>['Learning To Code', 'Coding Bootcamps']</td>\n",
       "      <td>https://researchcodingbootcamps.com/linkedin-o...</td>\n",
       "      <td>10</td>\n",
       "      <td>[Sabio]</td>\n",
       "      <td>1</td>\n",
       "      <td>4</td>\n",
       "    </tr>\n",
       "    <tr>\n",
       "      <th>1</th>\n",
       "      <td>Emily Deans</td>\n",
       "      <td>Washington, D.C.-based web developer. Former c...</td>\n",
       "      <td>Middleware/End of Week – Emily Deans – Medium</td>\n",
       "      <td>2017-07-28 20:01:22</td>\n",
       "      <td>medium</td>\n",
       "      <td>Middleware/ End of Week The last few days we’v...</td>\n",
       "      <td>['JavaScript', 'Lesbians Who Tech', 'Women Who...</td>\n",
       "      <td>https://medium.com/@emilyldeans/middleware-end...</td>\n",
       "      <td>0</td>\n",
       "      <td>[The Iron Yard]</td>\n",
       "      <td>1</td>\n",
       "      <td>1</td>\n",
       "    </tr>\n",
       "    <tr>\n",
       "      <th>2</th>\n",
       "      <td>Verity Honebon</td>\n",
       "      <td>NaN</td>\n",
       "      <td>Week 6 — working in groups (Airbnb clone) – Ve...</td>\n",
       "      <td>2017-07-31 10:57:36</td>\n",
       "      <td>medium</td>\n",
       "      <td>Week 6 — working in groups ( Airbnb clone) The...</td>\n",
       "      <td>['Agile', 'Codingbootcamp', 'Coding', 'Teamwor...</td>\n",
       "      <td>https://medium.com/@verityhonebon/week-6-worki...</td>\n",
       "      <td>1</td>\n",
       "      <td>[]</td>\n",
       "      <td>0</td>\n",
       "      <td>0</td>\n",
       "    </tr>\n",
       "    <tr>\n",
       "      <th>3</th>\n",
       "      <td>Emily Chai</td>\n",
       "      <td>A student at Maker’s, aspiring full stack deve...</td>\n",
       "      <td>Hunting for a first job as a developer – Emily...</td>\n",
       "      <td>2017-05-13 10:44:31</td>\n",
       "      <td>medium</td>\n",
       "      <td>Hunting for a first job as a developer Passing...</td>\n",
       "      <td>['Job Hunting', 'Developer', 'Makersacademy', ...</td>\n",
       "      <td>https://medium.com/@emilyxchai/hunting-for-a-f...</td>\n",
       "      <td>0</td>\n",
       "      <td>[]</td>\n",
       "      <td>0</td>\n",
       "      <td>41</td>\n",
       "    </tr>\n",
       "    <tr>\n",
       "      <th>4</th>\n",
       "      <td>Jackson McGehee</td>\n",
       "      <td>Web Dev | Software Engineer | Creative Strateg...</td>\n",
       "      <td>Notes from U̶n̶d̶e̶r̶g̶r̶o̶u̶n̶d̶ Week Nine – ...</td>\n",
       "      <td>2018-02-02 17:30:29</td>\n",
       "      <td>medium</td>\n",
       "      <td>Notes from U̶n̶d̶e̶r̶g̶r̶o̶u̶n̶d̶ Week Nine I ...</td>\n",
       "      <td>['Web Development', 'JavaScript', 'Codingbootc...</td>\n",
       "      <td>https://medium.com/@jacksonfullstack/notes-fro...</td>\n",
       "      <td>0</td>\n",
       "      <td>[General Assembly]</td>\n",
       "      <td>1</td>\n",
       "      <td>41</td>\n",
       "    </tr>\n",
       "  </tbody>\n",
       "</table>\n",
       "</div>"
      ],
      "text/plain": [
       "            author                                         author_bio  \\\n",
       "0   Gregorio Rojas  Founder @WeSabio - #LearnToCode - I Blog @ htt...   \n",
       "1      Emily Deans  Washington, D.C.-based web developer. Former c...   \n",
       "2   Verity Honebon                                                NaN   \n",
       "3       Emily Chai  A student at Maker’s, aspiring full stack deve...   \n",
       "4  Jackson McGehee  Web Dev | Software Engineer | Creative Strateg...   \n",
       "\n",
       "                                               title                 date  \\\n",
       "0  LinkedIn Outcomes Report of Coding Bootcamps –...  2016-06-01 22:46:01   \n",
       "1      Middleware/End of Week – Emily Deans – Medium  2017-07-28 20:01:22   \n",
       "2  Week 6 — working in groups (Airbnb clone) – Ve...  2017-07-31 10:57:36   \n",
       "3  Hunting for a first job as a developer – Emily...  2017-05-13 10:44:31   \n",
       "4  Notes from U̶n̶d̶e̶r̶g̶r̶o̶u̶n̶d̶ Week Nine – ...  2018-02-02 17:30:29   \n",
       "\n",
       "  publisher                                               text  \\\n",
       "0   wesabio  Linked In Outcomes Report of Coding Bootcamps ...   \n",
       "1    medium  Middleware/ End of Week The last few days we’v...   \n",
       "2    medium  Week 6 — working in groups ( Airbnb clone) The...   \n",
       "3    medium  Hunting for a first job as a developer Passing...   \n",
       "4    medium  Notes from U̶n̶d̶e̶r̶g̶r̶o̶u̶n̶d̶ Week Nine I ...   \n",
       "\n",
       "                                                tags  \\\n",
       "0           ['Learning To Code', 'Coding Bootcamps']   \n",
       "1  ['JavaScript', 'Lesbians Who Tech', 'Women Who...   \n",
       "2  ['Agile', 'Codingbootcamp', 'Coding', 'Teamwor...   \n",
       "3  ['Job Hunting', 'Developer', 'Makersacademy', ...   \n",
       "4  ['Web Development', 'JavaScript', 'Codingbootc...   \n",
       "\n",
       "                                                 url  score  \\\n",
       "0  https://researchcodingbootcamps.com/linkedin-o...     10   \n",
       "1  https://medium.com/@emilyldeans/middleware-end...      0   \n",
       "2  https://medium.com/@verityhonebon/week-6-worki...      1   \n",
       "3  https://medium.com/@emilyxchai/hunting-for-a-f...      0   \n",
       "4  https://medium.com/@jacksonfullstack/notes-fro...      0   \n",
       "\n",
       "            bootcamps  num_bootcamps claps 2018-11-27  \n",
       "0             [Sabio]              1                4  \n",
       "1     [The Iron Yard]              1                1  \n",
       "2                  []              0                0  \n",
       "3                  []              0               41  \n",
       "4  [General Assembly]              1               41  "
      ]
     },
     "execution_count": 31,
     "metadata": {},
     "output_type": "execute_result"
    }
   ],
   "source": [
    "codingbootcamp_info.head()"
   ]
  },
  {
   "cell_type": "markdown",
   "metadata": {},
   "source": [
    "Because the claps are represented as strings, and after a certain threshold of one thousand claps, Medium abbreviates say 2,200 claps as '2.2K', if we want to analyze the distribution of clap numbers, we need to do some data cleaning. "
   ]
  },
  {
   "cell_type": "code",
   "execution_count": 32,
   "metadata": {},
   "outputs": [
    {
     "data": {
      "text/plain": [
       "0       356\n",
       "1       124\n",
       "2        62\n",
       "3        47\n",
       "5        21\n",
       "4        19\n",
       "6        18\n",
       "50       17\n",
       "10       16\n",
       "9        15\n",
       "8        15\n",
       "7        13\n",
       "12       13\n",
       "11        9\n",
       "13        7\n",
       "18        7\n",
       "15        7\n",
       "52        6\n",
       "100       6\n",
       "80        6\n",
       "20        6\n",
       "23        6\n",
       "24        6\n",
       "51        6\n",
       "16        6\n",
       "56        5\n",
       "19        5\n",
       "21        5\n",
       "28        4\n",
       "14        4\n",
       "       ... \n",
       "34        1\n",
       "228       1\n",
       "2.1K      1\n",
       "94        1\n",
       "147       1\n",
       "171       1\n",
       "115       1\n",
       "108       1\n",
       "184       1\n",
       "405       1\n",
       "158       1\n",
       "67        1\n",
       "466       1\n",
       "69        1\n",
       "464       1\n",
       "400       1\n",
       "209       1\n",
       "155       1\n",
       "188       1\n",
       "133       1\n",
       "211       1\n",
       "84        1\n",
       "132       1\n",
       "99        1\n",
       "379       1\n",
       "317       1\n",
       "181       1\n",
       "118       1\n",
       "122       1\n",
       "252       1\n",
       "Name: claps 2018-11-27, Length: 161, dtype: int64"
      ]
     },
     "execution_count": 32,
     "metadata": {},
     "output_type": "execute_result"
    }
   ],
   "source": [
    "# This doesn't tell us a lot\n",
    "codingbootcamp_info['claps 2018-11-27'].value_counts()"
   ]
  },
  {
   "cell_type": "code",
   "execution_count": 33,
   "metadata": {},
   "outputs": [],
   "source": [
    "def clean_clap(clap_string):\n",
    "    \"\"\" Cleans a string clap into a rounded integer version.\n",
    "    Arguments:\n",
    "        clap_string: string of claps of article\n",
    "    Returns: integer representation of clap string\n",
    "    Examples:\n",
    "        clean_clap('9') returns integer 9\n",
    "        clean_clap('1K') returns integer 1000\n",
    "        clean_clap('13.2K') returns integer 13200\n",
    "        clean_clap('250.2K') returns integer 250200\n",
    "    \"\"\"\n",
    "    separated = clap_string.split('.') #denote where thousand is at\n",
    "    if len(separated) == 1 and 'K' not in separated[0]:\n",
    "        return int(separated[0]) # Less than one thousand\n",
    "    if len(separated) == 1 and 'K' in separated[0]: # Even thousand like 2K\n",
    "        w_o_k = separated[0].split('K')\n",
    "        return int(w_o_k[0])*1000\n",
    "    else: #composite thousand\n",
    "        thousands = int(separated[0])\n",
    "        hundreds = int(separated[1].split('K')[0])\n",
    "        return thousands*1000 + hundreds*100"
   ]
  },
  {
   "cell_type": "code",
   "execution_count": 34,
   "metadata": {},
   "outputs": [],
   "source": [
    "clap_nums = codingbootcamp_info['claps 2018-11-27'].apply(clean_clap)"
   ]
  },
  {
   "cell_type": "code",
   "execution_count": 35,
   "metadata": {},
   "outputs": [
    {
     "name": "stdout",
     "output_type": "stream",
     "text": [
      "The minimum number claps is 0\n",
      "The average number claps is 37.433397683397686\n",
      "The median number claps is 2.0\n",
      "The maximum number claps is 2100\n"
     ]
    }
   ],
   "source": [
    "#Summary statistics\n",
    "print(\"The minimum number claps is \" + str(min(clap_nums)))\n",
    "print(\"The average number claps is \" + str(np.mean(clap_nums)))\n",
    "print(\"The median number claps is \" + str(np.median(clap_nums)))\n",
    "print(\"The maximum number claps is \" + str(max(clap_nums)))"
   ]
  },
  {
   "cell_type": "code",
   "execution_count": 36,
   "metadata": {},
   "outputs": [
    {
     "name": "stderr",
     "output_type": "stream",
     "text": [
      "/Users/franciemcquarrie/anaconda3/lib/python3.6/site-packages/matplotlib/axes/_axes.py:6462: UserWarning: The 'normed' kwarg is deprecated, and has been replaced by the 'density' kwarg.\n",
      "  warnings.warn(\"The 'normed' kwarg is deprecated, and has been \"\n"
     ]
    },
    {
     "data": {
      "image/png": "[encoded data removed]",
      "text/plain": [
       "<Figure size 960x960 with 1 Axes>"
      ]
     },
     "metadata": {},
     "output_type": "display_data"
    }
   ],
   "source": [
    "# Plot histogram of number of claps\n",
    "fig = plt.figure(figsize=(12, 12), dpi=80)\n",
    "ax = sns.distplot(clap_nums.values, bins=range(0, 2110, 50));\n",
    "ax.set(xlabel=\"Number of Claps\", ylabel=\"Density\", title=\"Distribution of Number of Claps per Article\");"
   ]
  },
  {
   "cell_type": "code",
   "execution_count": 37,
   "metadata": {},
   "outputs": [
    {
     "name": "stderr",
     "output_type": "stream",
     "text": [
      "/Users/franciemcquarrie/anaconda3/lib/python3.6/site-packages/matplotlib/axes/_axes.py:6462: UserWarning: The 'normed' kwarg is deprecated, and has been replaced by the 'density' kwarg.\n",
      "  warnings.warn(\"The 'normed' kwarg is deprecated, and has been \"\n"
     ]
    },
    {
     "data": {
      "image/png": "[encoded data removed]",
      "text/plain": [
       "<Figure size 960x960 with 1 Axes>"
      ]
     },
     "metadata": {},
     "output_type": "display_data"
    }
   ],
   "source": [
    "fig = plt.figure(figsize=(12, 12), dpi=80)\n",
    "ax = sns.distplot(np.log(clap_nums.values + 1));\n",
    "ax.set(xlabel=\"Log Number of Claps\", ylabel=\"Density\", title=\"Log distribution of Number of claps\");"
   ]
  },
  {
   "cell_type": "markdown",
   "metadata": {},
   "source": [
    "## Gender Analysis\n",
    "Next we are interested in predicting and analyzing the gender of the article authors.\n",
    "The source of the baby names data set and inspiration for gender classification come from:  \n",
    "[Data100 Fa18 Lec02](http://www.ds100.org/fa18/assets/lectures/lec02/02-case-study.nbconvert.html)  \n",
    "[Data100 Fa18 Lec03](http://www.ds100.org/fa18/assets/lectures/lec03/03-case-study.html)"
   ]
  },
  {
   "cell_type": "code",
   "execution_count": 38,
   "metadata": {},
   "outputs": [],
   "source": [
    "# First get a babyname list we will use to predict gender\n",
    "# Source: \n",
    "import urllib.request\n",
    "import os.path\n",
    "data_url = \"https://www.ssa.gov/oact/babynames/names.zip\"\n",
    "local_filename = \"babynames.zip\"\n",
    "if not os.path.exists(local_filename): # if the data exists don't download again\n",
    "    with urllib.request.urlopen(data_url) as resp, open(local_filename, 'wb') as f:\n",
    "        f.write(resp.read())"
   ]
  },
  {
   "cell_type": "markdown",
   "metadata": {},
   "source": [
    "The data is organized into separate files in the format `yobYYYY.txt` with each file containing the `name`, `sex`, and `count` of babies registered in that year. Now we load the data directly into Python without unzipping in order to increase efficiency."
   ]
  },
  {
   "cell_type": "code",
   "execution_count": 39,
   "metadata": {},
   "outputs": [],
   "source": [
    "import zipfile\n",
    "babynames = [] \n",
    "with zipfile.ZipFile(local_filename, \"r\") as zf:\n",
    "    data_files = [f for f in zf.filelist if f.filename[-3:] == \"txt\"]\n",
    "    def extract_year_from_filename(fn):\n",
    "        return int(fn[3:7])\n",
    "    for f in data_files:\n",
    "        year = extract_year_from_filename(f.filename)\n",
    "        with zf.open(f) as fp:\n",
    "            df = pd.read_csv(fp, names=[\"Name\", \"Sex\", \"Count\"])\n",
    "            df[\"Year\"] = year\n",
    "            babynames.append(df)\n",
    "babynames = pd.concat(babynames)"
   ]
  },
  {
   "cell_type": "code",
   "execution_count": 40,
   "metadata": {},
   "outputs": [
    {
     "data": {
      "text/html": [
       "<div>\n",
       "<style scoped>\n",
       "    .dataframe tbody tr th:only-of-type {\n",
       "        vertical-align: middle;\n",
       "    }\n",
       "\n",
       "    .dataframe tbody tr th {\n",
       "        vertical-align: top;\n",
       "    }\n",
       "\n",
       "    .dataframe thead th {\n",
       "        text-align: right;\n",
       "    }\n",
       "</style>\n",
       "<table border=\"1\" class=\"dataframe\">\n",
       "  <thead>\n",
       "    <tr style=\"text-align: right;\">\n",
       "      <th></th>\n",
       "      <th>Name</th>\n",
       "      <th>Sex</th>\n",
       "      <th>Count</th>\n",
       "      <th>Year</th>\n",
       "    </tr>\n",
       "  </thead>\n",
       "  <tbody>\n",
       "    <tr>\n",
       "      <th>0</th>\n",
       "      <td>Mary</td>\n",
       "      <td>F</td>\n",
       "      <td>7065</td>\n",
       "      <td>1880</td>\n",
       "    </tr>\n",
       "    <tr>\n",
       "      <th>1</th>\n",
       "      <td>Anna</td>\n",
       "      <td>F</td>\n",
       "      <td>2604</td>\n",
       "      <td>1880</td>\n",
       "    </tr>\n",
       "    <tr>\n",
       "      <th>2</th>\n",
       "      <td>Emma</td>\n",
       "      <td>F</td>\n",
       "      <td>2003</td>\n",
       "      <td>1880</td>\n",
       "    </tr>\n",
       "    <tr>\n",
       "      <th>3</th>\n",
       "      <td>Elizabeth</td>\n",
       "      <td>F</td>\n",
       "      <td>1939</td>\n",
       "      <td>1880</td>\n",
       "    </tr>\n",
       "    <tr>\n",
       "      <th>4</th>\n",
       "      <td>Minnie</td>\n",
       "      <td>F</td>\n",
       "      <td>1746</td>\n",
       "      <td>1880</td>\n",
       "    </tr>\n",
       "  </tbody>\n",
       "</table>\n",
       "</div>"
      ],
      "text/plain": [
       "        Name Sex  Count  Year\n",
       "0       Mary   F   7065  1880\n",
       "1       Anna   F   2604  1880\n",
       "2       Emma   F   2003  1880\n",
       "3  Elizabeth   F   1939  1880\n",
       "4     Minnie   F   1746  1880"
      ]
     },
     "execution_count": 40,
     "metadata": {},
     "output_type": "execute_result"
    }
   ],
   "source": [
    "babynames.head()"
   ]
  },
  {
   "cell_type": "markdown",
   "metadata": {},
   "source": [
    "Let's start off by lowercasing the names in the babynames dataset and our own data frame(for standardization purposes so we can easily find patterns and matches). I'll create a new column for the lowercase name so we don't lose the original data."
   ]
  },
  {
   "cell_type": "code",
   "execution_count": 41,
   "metadata": {},
   "outputs": [
    {
     "data": {
      "text/html": [
       "<div>\n",
       "<style scoped>\n",
       "    .dataframe tbody tr th:only-of-type {\n",
       "        vertical-align: middle;\n",
       "    }\n",
       "\n",
       "    .dataframe tbody tr th {\n",
       "        vertical-align: top;\n",
       "    }\n",
       "\n",
       "    .dataframe thead th {\n",
       "        text-align: right;\n",
       "    }\n",
       "</style>\n",
       "<table border=\"1\" class=\"dataframe\">\n",
       "  <thead>\n",
       "    <tr style=\"text-align: right;\">\n",
       "      <th></th>\n",
       "      <th>Name</th>\n",
       "      <th>Sex</th>\n",
       "      <th>Count</th>\n",
       "      <th>Year</th>\n",
       "      <th>LName</th>\n",
       "    </tr>\n",
       "  </thead>\n",
       "  <tbody>\n",
       "    <tr>\n",
       "      <th>0</th>\n",
       "      <td>Mary</td>\n",
       "      <td>F</td>\n",
       "      <td>7065</td>\n",
       "      <td>1880</td>\n",
       "      <td>mary</td>\n",
       "    </tr>\n",
       "    <tr>\n",
       "      <th>1</th>\n",
       "      <td>Anna</td>\n",
       "      <td>F</td>\n",
       "      <td>2604</td>\n",
       "      <td>1880</td>\n",
       "      <td>anna</td>\n",
       "    </tr>\n",
       "    <tr>\n",
       "      <th>2</th>\n",
       "      <td>Emma</td>\n",
       "      <td>F</td>\n",
       "      <td>2003</td>\n",
       "      <td>1880</td>\n",
       "      <td>emma</td>\n",
       "    </tr>\n",
       "    <tr>\n",
       "      <th>3</th>\n",
       "      <td>Elizabeth</td>\n",
       "      <td>F</td>\n",
       "      <td>1939</td>\n",
       "      <td>1880</td>\n",
       "      <td>elizabeth</td>\n",
       "    </tr>\n",
       "    <tr>\n",
       "      <th>4</th>\n",
       "      <td>Minnie</td>\n",
       "      <td>F</td>\n",
       "      <td>1746</td>\n",
       "      <td>1880</td>\n",
       "      <td>minnie</td>\n",
       "    </tr>\n",
       "  </tbody>\n",
       "</table>\n",
       "</div>"
      ],
      "text/plain": [
       "        Name Sex  Count  Year      LName\n",
       "0       Mary   F   7065  1880       mary\n",
       "1       Anna   F   2604  1880       anna\n",
       "2       Emma   F   2003  1880       emma\n",
       "3  Elizabeth   F   1939  1880  elizabeth\n",
       "4     Minnie   F   1746  1880     minnie"
      ]
     },
     "execution_count": 41,
     "metadata": {},
     "output_type": "execute_result"
    }
   ],
   "source": [
    "babynames[\"LName\"] = babynames[\"Name\"].str.lower()\n",
    "babynames.head()"
   ]
  },
  {
   "cell_type": "code",
   "execution_count": 42,
   "metadata": {},
   "outputs": [
    {
     "data": {
      "text/html": [
       "<div>\n",
       "<style scoped>\n",
       "    .dataframe tbody tr th:only-of-type {\n",
       "        vertical-align: middle;\n",
       "    }\n",
       "\n",
       "    .dataframe tbody tr th {\n",
       "        vertical-align: top;\n",
       "    }\n",
       "\n",
       "    .dataframe thead th {\n",
       "        text-align: right;\n",
       "    }\n",
       "</style>\n",
       "<table border=\"1\" class=\"dataframe\">\n",
       "  <thead>\n",
       "    <tr style=\"text-align: right;\">\n",
       "      <th></th>\n",
       "      <th>author</th>\n",
       "      <th>author_bio</th>\n",
       "      <th>title</th>\n",
       "      <th>date</th>\n",
       "      <th>publisher</th>\n",
       "      <th>text</th>\n",
       "      <th>tags</th>\n",
       "      <th>url</th>\n",
       "      <th>score</th>\n",
       "      <th>bootcamps</th>\n",
       "      <th>num_bootcamps</th>\n",
       "      <th>claps 2018-11-27</th>\n",
       "      <th>lowercase author</th>\n",
       "    </tr>\n",
       "  </thead>\n",
       "  <tbody>\n",
       "    <tr>\n",
       "      <th>0</th>\n",
       "      <td>Gregorio Rojas</td>\n",
       "      <td>Founder @WeSabio - #LearnToCode - I Blog @ htt...</td>\n",
       "      <td>LinkedIn Outcomes Report of Coding Bootcamps –...</td>\n",
       "      <td>2016-06-01 22:46:01</td>\n",
       "      <td>wesabio</td>\n",
       "      <td>Linked In Outcomes Report of Coding Bootcamps ...</td>\n",
       "      <td>['Learning To Code', 'Coding Bootcamps']</td>\n",
       "      <td>https://researchcodingbootcamps.com/linkedin-o...</td>\n",
       "      <td>10</td>\n",
       "      <td>[Sabio]</td>\n",
       "      <td>1</td>\n",
       "      <td>4</td>\n",
       "      <td>gregorio rojas</td>\n",
       "    </tr>\n",
       "    <tr>\n",
       "      <th>1</th>\n",
       "      <td>Emily Deans</td>\n",
       "      <td>Washington, D.C.-based web developer. Former c...</td>\n",
       "      <td>Middleware/End of Week – Emily Deans – Medium</td>\n",
       "      <td>2017-07-28 20:01:22</td>\n",
       "      <td>medium</td>\n",
       "      <td>Middleware/ End of Week The last few days we’v...</td>\n",
       "      <td>['JavaScript', 'Lesbians Who Tech', 'Women Who...</td>\n",
       "      <td>https://medium.com/@emilyldeans/middleware-end...</td>\n",
       "      <td>0</td>\n",
       "      <td>[The Iron Yard]</td>\n",
       "      <td>1</td>\n",
       "      <td>1</td>\n",
       "      <td>emily deans</td>\n",
       "    </tr>\n",
       "    <tr>\n",
       "      <th>2</th>\n",
       "      <td>Verity Honebon</td>\n",
       "      <td>NaN</td>\n",
       "      <td>Week 6 — working in groups (Airbnb clone) – Ve...</td>\n",
       "      <td>2017-07-31 10:57:36</td>\n",
       "      <td>medium</td>\n",
       "      <td>Week 6 — working in groups ( Airbnb clone) The...</td>\n",
       "      <td>['Agile', 'Codingbootcamp', 'Coding', 'Teamwor...</td>\n",
       "      <td>https://medium.com/@verityhonebon/week-6-worki...</td>\n",
       "      <td>1</td>\n",
       "      <td>[]</td>\n",
       "      <td>0</td>\n",
       "      <td>0</td>\n",
       "      <td>verity honebon</td>\n",
       "    </tr>\n",
       "    <tr>\n",
       "      <th>3</th>\n",
       "      <td>Emily Chai</td>\n",
       "      <td>A student at Maker’s, aspiring full stack deve...</td>\n",
       "      <td>Hunting for a first job as a developer – Emily...</td>\n",
       "      <td>2017-05-13 10:44:31</td>\n",
       "      <td>medium</td>\n",
       "      <td>Hunting for a first job as a developer Passing...</td>\n",
       "      <td>['Job Hunting', 'Developer', 'Makersacademy', ...</td>\n",
       "      <td>https://medium.com/@emilyxchai/hunting-for-a-f...</td>\n",
       "      <td>0</td>\n",
       "      <td>[]</td>\n",
       "      <td>0</td>\n",
       "      <td>41</td>\n",
       "      <td>emily chai</td>\n",
       "    </tr>\n",
       "    <tr>\n",
       "      <th>4</th>\n",
       "      <td>Jackson McGehee</td>\n",
       "      <td>Web Dev | Software Engineer | Creative Strateg...</td>\n",
       "      <td>Notes from U̶n̶d̶e̶r̶g̶r̶o̶u̶n̶d̶ Week Nine – ...</td>\n",
       "      <td>2018-02-02 17:30:29</td>\n",
       "      <td>medium</td>\n",
       "      <td>Notes from U̶n̶d̶e̶r̶g̶r̶o̶u̶n̶d̶ Week Nine I ...</td>\n",
       "      <td>['Web Development', 'JavaScript', 'Codingbootc...</td>\n",
       "      <td>https://medium.com/@jacksonfullstack/notes-fro...</td>\n",
       "      <td>0</td>\n",
       "      <td>[General Assembly]</td>\n",
       "      <td>1</td>\n",
       "      <td>41</td>\n",
       "      <td>jackson mcgehee</td>\n",
       "    </tr>\n",
       "  </tbody>\n",
       "</table>\n",
       "</div>"
      ],
      "text/plain": [
       "            author                                         author_bio  \\\n",
       "0   Gregorio Rojas  Founder @WeSabio - #LearnToCode - I Blog @ htt...   \n",
       "1      Emily Deans  Washington, D.C.-based web developer. Former c...   \n",
       "2   Verity Honebon                                                NaN   \n",
       "3       Emily Chai  A student at Maker’s, aspiring full stack deve...   \n",
       "4  Jackson McGehee  Web Dev | Software Engineer | Creative Strateg...   \n",
       "\n",
       "                                               title                 date  \\\n",
       "0  LinkedIn Outcomes Report of Coding Bootcamps –...  2016-06-01 22:46:01   \n",
       "1      Middleware/End of Week – Emily Deans – Medium  2017-07-28 20:01:22   \n",
       "2  Week 6 — working in groups (Airbnb clone) – Ve...  2017-07-31 10:57:36   \n",
       "3  Hunting for a first job as a developer – Emily...  2017-05-13 10:44:31   \n",
       "4  Notes from U̶n̶d̶e̶r̶g̶r̶o̶u̶n̶d̶ Week Nine – ...  2018-02-02 17:30:29   \n",
       "\n",
       "  publisher                                               text  \\\n",
       "0   wesabio  Linked In Outcomes Report of Coding Bootcamps ...   \n",
       "1    medium  Middleware/ End of Week The last few days we’v...   \n",
       "2    medium  Week 6 — working in groups ( Airbnb clone) The...   \n",
       "3    medium  Hunting for a first job as a developer Passing...   \n",
       "4    medium  Notes from U̶n̶d̶e̶r̶g̶r̶o̶u̶n̶d̶ Week Nine I ...   \n",
       "\n",
       "                                                tags  \\\n",
       "0           ['Learning To Code', 'Coding Bootcamps']   \n",
       "1  ['JavaScript', 'Lesbians Who Tech', 'Women Who...   \n",
       "2  ['Agile', 'Codingbootcamp', 'Coding', 'Teamwor...   \n",
       "3  ['Job Hunting', 'Developer', 'Makersacademy', ...   \n",
       "4  ['Web Development', 'JavaScript', 'Codingbootc...   \n",
       "\n",
       "                                                 url  score  \\\n",
       "0  https://researchcodingbootcamps.com/linkedin-o...     10   \n",
       "1  https://medium.com/@emilyldeans/middleware-end...      0   \n",
       "2  https://medium.com/@verityhonebon/week-6-worki...      1   \n",
       "3  https://medium.com/@emilyxchai/hunting-for-a-f...      0   \n",
       "4  https://medium.com/@jacksonfullstack/notes-fro...      0   \n",
       "\n",
       "            bootcamps  num_bootcamps claps 2018-11-27 lowercase author  \n",
       "0             [Sabio]              1                4   gregorio rojas  \n",
       "1     [The Iron Yard]              1                1      emily deans  \n",
       "2                  []              0                0   verity honebon  \n",
       "3                  []              0               41       emily chai  \n",
       "4  [General Assembly]              1               41  jackson mcgehee  "
      ]
     },
     "execution_count": 42,
     "metadata": {},
     "output_type": "execute_result"
    }
   ],
   "source": [
    "codingbootcamp_info[\"lowercase author\"] = codingbootcamp_info[\"author\"].str.lower()\n",
    "codingbootcamp_info.head()"
   ]
  },
  {
   "cell_type": "markdown",
   "metadata": {},
   "source": [
    "The next cell displays the total number of babies with each name broken down by sex."
   ]
  },
  {
   "cell_type": "code",
   "execution_count": 43,
   "metadata": {},
   "outputs": [
    {
     "data": {
      "text/html": [
       "<div>\n",
       "<style scoped>\n",
       "    .dataframe tbody tr th:only-of-type {\n",
       "        vertical-align: middle;\n",
       "    }\n",
       "\n",
       "    .dataframe tbody tr th {\n",
       "        vertical-align: top;\n",
       "    }\n",
       "\n",
       "    .dataframe thead th {\n",
       "        text-align: right;\n",
       "    }\n",
       "</style>\n",
       "<table border=\"1\" class=\"dataframe\">\n",
       "  <thead>\n",
       "    <tr style=\"text-align: right;\">\n",
       "      <th>Sex</th>\n",
       "      <th>F</th>\n",
       "      <th>M</th>\n",
       "      <th>All</th>\n",
       "    </tr>\n",
       "    <tr>\n",
       "      <th>LName</th>\n",
       "      <th></th>\n",
       "      <th></th>\n",
       "      <th></th>\n",
       "    </tr>\n",
       "  </thead>\n",
       "  <tbody>\n",
       "    <tr>\n",
       "      <th>aaban</th>\n",
       "      <td>0</td>\n",
       "      <td>107</td>\n",
       "      <td>107</td>\n",
       "    </tr>\n",
       "    <tr>\n",
       "      <th>aabha</th>\n",
       "      <td>35</td>\n",
       "      <td>0</td>\n",
       "      <td>35</td>\n",
       "    </tr>\n",
       "    <tr>\n",
       "      <th>aabid</th>\n",
       "      <td>0</td>\n",
       "      <td>10</td>\n",
       "      <td>10</td>\n",
       "    </tr>\n",
       "    <tr>\n",
       "      <th>aabir</th>\n",
       "      <td>0</td>\n",
       "      <td>5</td>\n",
       "      <td>5</td>\n",
       "    </tr>\n",
       "    <tr>\n",
       "      <th>aabriella</th>\n",
       "      <td>32</td>\n",
       "      <td>0</td>\n",
       "      <td>32</td>\n",
       "    </tr>\n",
       "  </tbody>\n",
       "</table>\n",
       "</div>"
      ],
      "text/plain": [
       "Sex         F    M  All\n",
       "LName                  \n",
       "aaban       0  107  107\n",
       "aabha      35    0   35\n",
       "aabid       0   10   10\n",
       "aabir       0    5    5\n",
       "aabriella  32    0   32"
      ]
     },
     "execution_count": 43,
     "metadata": {},
     "output_type": "execute_result"
    }
   ],
   "source": [
    "sex_counts = pd.pivot_table(babynames, index='LName', columns='Sex', values='Count',\n",
    "                            aggfunc='sum', fill_value=0., margins=True)\n",
    "sex_counts.head()"
   ]
  },
  {
   "cell_type": "markdown",
   "metadata": {},
   "source": [
    "Using the above pivot table, we can also calculate the probability a name is female:"
   ]
  },
  {
   "cell_type": "code",
   "execution_count": 44,
   "metadata": {},
   "outputs": [
    {
     "data": {
      "text/plain": [
       "LName\n",
       "aaban        0.000000\n",
       "aabha        1.000000\n",
       "aabid        0.000000\n",
       "aabir        0.000000\n",
       "aabriella    1.000000\n",
       "aada         1.000000\n",
       "aadam        0.000000\n",
       "aadan        0.000000\n",
       "aadarsh      0.000000\n",
       "aaden        0.001073\n",
       "dtype: float64"
      ]
     },
     "execution_count": 44,
     "metadata": {},
     "output_type": "execute_result"
    }
   ],
   "source": [
    "prob_female = sex_counts['F'] / sex_counts['All'] \n",
    "prob_female.head(10)"
   ]
  },
  {
   "cell_type": "code",
   "execution_count": 45,
   "metadata": {},
   "outputs": [
    {
     "data": {
      "text/plain": [
       "1.0"
      ]
     },
     "execution_count": 45,
     "metadata": {},
     "output_type": "execute_result"
    }
   ],
   "source": [
    "# A test example\n",
    "prob_female[\"shalini\"]"
   ]
  },
  {
   "cell_type": "markdown",
   "metadata": {},
   "source": [
    "Similarly, we can calculate the probability a name is male:"
   ]
  },
  {
   "cell_type": "code",
   "execution_count": 46,
   "metadata": {},
   "outputs": [
    {
     "data": {
      "text/plain": [
       "LName\n",
       "aaban        1.000000\n",
       "aabha        0.000000\n",
       "aabid        1.000000\n",
       "aabir        1.000000\n",
       "aabriella    0.000000\n",
       "aada         0.000000\n",
       "aadam        1.000000\n",
       "aadan        1.000000\n",
       "aadarsh      1.000000\n",
       "aaden        0.998927\n",
       "dtype: float64"
      ]
     },
     "execution_count": 46,
     "metadata": {},
     "output_type": "execute_result"
    }
   ],
   "source": [
    "prob_male = sex_counts['M'] / sex_counts['All'] \n",
    "prob_male.head(10)"
   ]
  },
  {
   "cell_type": "markdown",
   "metadata": {},
   "source": [
    "I will define a function to return the most likely `Sex` for a name. If there is an exact tie, the function returns Male. If the name does not appear in the social security dataset, return Unknown."
   ]
  },
  {
   "cell_type": "code",
   "execution_count": 59,
   "metadata": {},
   "outputs": [],
   "source": [
    "def sex_from_name(name):\n",
    "    \"\"\"Calculates the sex given a name.\n",
    "    Arguments:\n",
    "        name: name of person as a string\n",
    "    Returns:\n",
    "        Male (string) if male is most likely sex or tie between Male, Female\n",
    "        Female (string) if female is most likely sex\n",
    "        Unknown (string) if name does not appear in social security dataset\n",
    "    \"\"\"\n",
    "    lower_name = name.lower()\n",
    "    if lower_name in prob_female.index:\n",
    "        return 'F' if prob_female[lower_name] > 0.5 else 'M'\n",
    "    else:\n",
    "        return \"Unknown\"\n",
    "\n",
    "def prob_female_from_name(name):\n",
    "    \"\"\"Calculates the chance a name is female.\n",
    "    Arguments: \n",
    "        name: name of person as a string\n",
    "    Returns:\n",
    "        Chance name is female (float)\"\"\"\n",
    "    lower_name = name.lower()\n",
    "    if lower_name in prob_female.index:\n",
    "        return prob_female[lower_name]\n",
    "    else:\n",
    "        return \"Unknown\"\n",
    "def prob_male_from_name(name):\n",
    "    \"\"\"Calculates the chance a name is male.\n",
    "    Arguments: \n",
    "        name: name of person as a string\n",
    "    Returns:\n",
    "        Chance name is male (float)\"\"\"\n",
    "    lower_name = name.lower()\n",
    "    if lower_name in prob_male.index:\n",
    "        return prob_male[lower_name]\n",
    "    else:\n",
    "        return \"Unknown\""
   ]
  },
  {
   "cell_type": "code",
   "execution_count": 60,
   "metadata": {},
   "outputs": [
    {
     "name": "stdout",
     "output_type": "stream",
     "text": [
      "F\n",
      "M\n"
     ]
    }
   ],
   "source": [
    "# Test example of above functions\n",
    "shalini_sex = sex_from_name('shalini')\n",
    "print(shalini_sex)\n",
    "print(sex_from_name('aaden'))"
   ]
  },
  {
   "cell_type": "markdown",
   "metadata": {},
   "source": [
    "Now we need to find a way to apply this function to our own coding bootcamp articles dataframe in order to predict the gender of the different authors.\n",
    "Next steps:\n",
    "* Get the first name of the author\n",
    "* Filter out any companies/organizations that may be in the author column\n",
    "* Apply sex_from_name function to names in the bootcamp dataframe\n",
    "* Have a confidence interval (if possible) or different measure of how sure we are about the given gender\n",
    "* Create different dataframes with organization data and personal data (as publisher/author)\n",
    "\n",
    "Let's go back to our dataframe and filter out anything that may be companies or organizations.\n",
    "\n",
    "We want to filter out:  \n",
    "* wesabio\n",
    "* code.likeagirl.io\n",
    "* makersacademy\n",
    "* hackernoon\n",
    "* fuerzamuktek\n",
    "* codeburst\n",
    "* ubiqum\n",
    "* fundapps\n",
    "* itnext.io\n",
    "* propulsioncodingacademy\n",
    "* PrototyprIO.\n",
    "\n",
    "The above were found by inpsection of the data"
   ]
  },
  {
   "cell_type": "code",
   "execution_count": 61,
   "metadata": {},
   "outputs": [],
   "source": [
    "#Filter out organization authors\n",
    "orgs = [\"wesabio\", \"code.likeagirl.io\", \"makersacademy\", \"hackernoon\", \"fuerzamuktek\", \"codeburst\", \"ubiqum\", \"fundapps\", \"itnext.io\", \"propulsioncodingacademy\", \"PrototyprIO\"]\n",
    "new_codingdf = codingbootcamp_info[~codingbootcamp_info[\"publisher\"].isin(orgs)]\n",
    "orgs_df = codingbootcamp_info[codingbootcamp_info[\"publisher\"].isin(orgs)]"
   ]
  },
  {
   "cell_type": "markdown",
   "metadata": {},
   "source": [
    "From a manual look at the filtered dataframe, I am also going to filter out rows that have author KeepCoding, Better Developer, Manchester Codes, Code Collective, Accelerate Tech, Rithm School."
   ]
  },
  {
   "cell_type": "code",
   "execution_count": 62,
   "metadata": {},
   "outputs": [],
   "source": [
    "#More organization filtering\n",
    "more_orgs = [\"KeepCoding\", \"Better Developer\", \"Manchester Codes\", \"Code Collective\", \"Accelerate Tech\", \"Rithm School\"]\n",
    "new_codingdf = new_codingdf[~new_codingdf[\"author\"].isin(more_orgs)]"
   ]
  },
  {
   "cell_type": "markdown",
   "metadata": {},
   "source": [
    "Now I need to get the first name of the author from the \"lowercase author\" column in order to put it through the gender function."
   ]
  },
  {
   "cell_type": "code",
   "execution_count": 63,
   "metadata": {},
   "outputs": [
    {
     "data": {
      "text/html": [
       "<div>\n",
       "<style scoped>\n",
       "    .dataframe tbody tr th:only-of-type {\n",
       "        vertical-align: middle;\n",
       "    }\n",
       "\n",
       "    .dataframe tbody tr th {\n",
       "        vertical-align: top;\n",
       "    }\n",
       "\n",
       "    .dataframe thead th {\n",
       "        text-align: right;\n",
       "    }\n",
       "</style>\n",
       "<table border=\"1\" class=\"dataframe\">\n",
       "  <thead>\n",
       "    <tr style=\"text-align: right;\">\n",
       "      <th></th>\n",
       "      <th>author</th>\n",
       "      <th>author_bio</th>\n",
       "      <th>title</th>\n",
       "      <th>date</th>\n",
       "      <th>publisher</th>\n",
       "      <th>text</th>\n",
       "      <th>tags</th>\n",
       "      <th>url</th>\n",
       "      <th>score</th>\n",
       "      <th>bootcamps</th>\n",
       "      <th>num_bootcamps</th>\n",
       "      <th>claps 2018-11-27</th>\n",
       "      <th>lowercase author</th>\n",
       "      <th>first name</th>\n",
       "    </tr>\n",
       "  </thead>\n",
       "  <tbody>\n",
       "    <tr>\n",
       "      <th>1</th>\n",
       "      <td>Emily Deans</td>\n",
       "      <td>Washington, D.C.-based web developer. Former c...</td>\n",
       "      <td>Middleware/End of Week – Emily Deans – Medium</td>\n",
       "      <td>2017-07-28 20:01:22</td>\n",
       "      <td>medium</td>\n",
       "      <td>Middleware/ End of Week The last few days we’v...</td>\n",
       "      <td>['JavaScript', 'Lesbians Who Tech', 'Women Who...</td>\n",
       "      <td>https://medium.com/@emilyldeans/middleware-end...</td>\n",
       "      <td>0</td>\n",
       "      <td>[The Iron Yard]</td>\n",
       "      <td>1</td>\n",
       "      <td>1</td>\n",
       "      <td>emily deans</td>\n",
       "      <td>emily</td>\n",
       "    </tr>\n",
       "    <tr>\n",
       "      <th>2</th>\n",
       "      <td>Verity Honebon</td>\n",
       "      <td>NaN</td>\n",
       "      <td>Week 6 — working in groups (Airbnb clone) – Ve...</td>\n",
       "      <td>2017-07-31 10:57:36</td>\n",
       "      <td>medium</td>\n",
       "      <td>Week 6 — working in groups ( Airbnb clone) The...</td>\n",
       "      <td>['Agile', 'Codingbootcamp', 'Coding', 'Teamwor...</td>\n",
       "      <td>https://medium.com/@verityhonebon/week-6-worki...</td>\n",
       "      <td>1</td>\n",
       "      <td>[]</td>\n",
       "      <td>0</td>\n",
       "      <td>0</td>\n",
       "      <td>verity honebon</td>\n",
       "      <td>verity</td>\n",
       "    </tr>\n",
       "    <tr>\n",
       "      <th>3</th>\n",
       "      <td>Emily Chai</td>\n",
       "      <td>A student at Maker’s, aspiring full stack deve...</td>\n",
       "      <td>Hunting for a first job as a developer – Emily...</td>\n",
       "      <td>2017-05-13 10:44:31</td>\n",
       "      <td>medium</td>\n",
       "      <td>Hunting for a first job as a developer Passing...</td>\n",
       "      <td>['Job Hunting', 'Developer', 'Makersacademy', ...</td>\n",
       "      <td>https://medium.com/@emilyxchai/hunting-for-a-f...</td>\n",
       "      <td>0</td>\n",
       "      <td>[]</td>\n",
       "      <td>0</td>\n",
       "      <td>41</td>\n",
       "      <td>emily chai</td>\n",
       "      <td>emily</td>\n",
       "    </tr>\n",
       "    <tr>\n",
       "      <th>4</th>\n",
       "      <td>Jackson McGehee</td>\n",
       "      <td>Web Dev | Software Engineer | Creative Strateg...</td>\n",
       "      <td>Notes from U̶n̶d̶e̶r̶g̶r̶o̶u̶n̶d̶ Week Nine – ...</td>\n",
       "      <td>2018-02-02 17:30:29</td>\n",
       "      <td>medium</td>\n",
       "      <td>Notes from U̶n̶d̶e̶r̶g̶r̶o̶u̶n̶d̶ Week Nine I ...</td>\n",
       "      <td>['Web Development', 'JavaScript', 'Codingbootc...</td>\n",
       "      <td>https://medium.com/@jacksonfullstack/notes-fro...</td>\n",
       "      <td>0</td>\n",
       "      <td>[General Assembly]</td>\n",
       "      <td>1</td>\n",
       "      <td>41</td>\n",
       "      <td>jackson mcgehee</td>\n",
       "      <td>jackson</td>\n",
       "    </tr>\n",
       "    <tr>\n",
       "      <th>5</th>\n",
       "      <td>Bree Jackson</td>\n",
       "      <td>NaN</td>\n",
       "      <td>This is a homework assignment you see. – Bree ...</td>\n",
       "      <td>2017-08-11 03:11:39</td>\n",
       "      <td>medium</td>\n",
       "      <td>This is a homework assignment you see. As a po...</td>\n",
       "      <td>['Life', 'Codingbootcamp', 'Friends', 'Journey...</td>\n",
       "      <td>https://medium.com/@breejax/as-a-possible-futu...</td>\n",
       "      <td>0</td>\n",
       "      <td>[]</td>\n",
       "      <td>0</td>\n",
       "      <td>1</td>\n",
       "      <td>bree jackson</td>\n",
       "      <td>bree</td>\n",
       "    </tr>\n",
       "  </tbody>\n",
       "</table>\n",
       "</div>"
      ],
      "text/plain": [
       "            author                                         author_bio  \\\n",
       "1      Emily Deans  Washington, D.C.-based web developer. Former c...   \n",
       "2   Verity Honebon                                                NaN   \n",
       "3       Emily Chai  A student at Maker’s, aspiring full stack deve...   \n",
       "4  Jackson McGehee  Web Dev | Software Engineer | Creative Strateg...   \n",
       "5     Bree Jackson                                                NaN   \n",
       "\n",
       "                                               title                 date  \\\n",
       "1      Middleware/End of Week – Emily Deans – Medium  2017-07-28 20:01:22   \n",
       "2  Week 6 — working in groups (Airbnb clone) – Ve...  2017-07-31 10:57:36   \n",
       "3  Hunting for a first job as a developer – Emily...  2017-05-13 10:44:31   \n",
       "4  Notes from U̶n̶d̶e̶r̶g̶r̶o̶u̶n̶d̶ Week Nine – ...  2018-02-02 17:30:29   \n",
       "5  This is a homework assignment you see. – Bree ...  2017-08-11 03:11:39   \n",
       "\n",
       "  publisher                                               text  \\\n",
       "1    medium  Middleware/ End of Week The last few days we’v...   \n",
       "2    medium  Week 6 — working in groups ( Airbnb clone) The...   \n",
       "3    medium  Hunting for a first job as a developer Passing...   \n",
       "4    medium  Notes from U̶n̶d̶e̶r̶g̶r̶o̶u̶n̶d̶ Week Nine I ...   \n",
       "5    medium  This is a homework assignment you see. As a po...   \n",
       "\n",
       "                                                tags  \\\n",
       "1  ['JavaScript', 'Lesbians Who Tech', 'Women Who...   \n",
       "2  ['Agile', 'Codingbootcamp', 'Coding', 'Teamwor...   \n",
       "3  ['Job Hunting', 'Developer', 'Makersacademy', ...   \n",
       "4  ['Web Development', 'JavaScript', 'Codingbootc...   \n",
       "5  ['Life', 'Codingbootcamp', 'Friends', 'Journey...   \n",
       "\n",
       "                                                 url  score  \\\n",
       "1  https://medium.com/@emilyldeans/middleware-end...      0   \n",
       "2  https://medium.com/@verityhonebon/week-6-worki...      1   \n",
       "3  https://medium.com/@emilyxchai/hunting-for-a-f...      0   \n",
       "4  https://medium.com/@jacksonfullstack/notes-fro...      0   \n",
       "5  https://medium.com/@breejax/as-a-possible-futu...      0   \n",
       "\n",
       "            bootcamps  num_bootcamps claps 2018-11-27 lowercase author  \\\n",
       "1     [The Iron Yard]              1                1      emily deans   \n",
       "2                  []              0                0   verity honebon   \n",
       "3                  []              0               41       emily chai   \n",
       "4  [General Assembly]              1               41  jackson mcgehee   \n",
       "5                  []              0                1     bree jackson   \n",
       "\n",
       "  first name  \n",
       "1      emily  \n",
       "2     verity  \n",
       "3      emily  \n",
       "4    jackson  \n",
       "5       bree  "
      ]
     },
     "execution_count": 63,
     "metadata": {},
     "output_type": "execute_result"
    }
   ],
   "source": [
    "new_codingdf[\"first name\"] = new_codingdf[\"lowercase author\"].str.split(' ').str.get(0)\n",
    "new_codingdf.head()"
   ]
  },
  {
   "cell_type": "markdown",
   "metadata": {},
   "source": [
    "Now put the extracted first name through the gender function:"
   ]
  },
  {
   "cell_type": "code",
   "execution_count": 64,
   "metadata": {},
   "outputs": [],
   "source": [
    "new_codingdf[\"gender\"] = new_codingdf[\"first name\"].apply(sex_from_name)\n",
    "new_codingdf[\"prob_female\"] = new_codingdf[\"first name\"].apply(prob_female_from_name)\n",
    "new_codingdf[\"prob_male\"] = new_codingdf[\"first name\"].apply(prob_male_from_name)"
   ]
  },
  {
   "cell_type": "code",
   "execution_count": 65,
   "metadata": {},
   "outputs": [
    {
     "data": {
      "text/html": [
       "<div>\n",
       "<style scoped>\n",
       "    .dataframe tbody tr th:only-of-type {\n",
       "        vertical-align: middle;\n",
       "    }\n",
       "\n",
       "    .dataframe tbody tr th {\n",
       "        vertical-align: top;\n",
       "    }\n",
       "\n",
       "    .dataframe thead th {\n",
       "        text-align: right;\n",
       "    }\n",
       "</style>\n",
       "<table border=\"1\" class=\"dataframe\">\n",
       "  <thead>\n",
       "    <tr style=\"text-align: right;\">\n",
       "      <th></th>\n",
       "      <th>author</th>\n",
       "      <th>author_bio</th>\n",
       "      <th>title</th>\n",
       "      <th>date</th>\n",
       "      <th>publisher</th>\n",
       "      <th>text</th>\n",
       "      <th>tags</th>\n",
       "      <th>url</th>\n",
       "      <th>score</th>\n",
       "      <th>bootcamps</th>\n",
       "      <th>num_bootcamps</th>\n",
       "      <th>claps 2018-11-27</th>\n",
       "      <th>lowercase author</th>\n",
       "      <th>first name</th>\n",
       "      <th>gender</th>\n",
       "      <th>prob_female</th>\n",
       "      <th>prob_male</th>\n",
       "    </tr>\n",
       "  </thead>\n",
       "  <tbody>\n",
       "    <tr>\n",
       "      <th>1</th>\n",
       "      <td>Emily Deans</td>\n",
       "      <td>Washington, D.C.-based web developer. Former c...</td>\n",
       "      <td>Middleware/End of Week – Emily Deans – Medium</td>\n",
       "      <td>2017-07-28 20:01:22</td>\n",
       "      <td>medium</td>\n",
       "      <td>Middleware/ End of Week The last few days we’v...</td>\n",
       "      <td>['JavaScript', 'Lesbians Who Tech', 'Women Who...</td>\n",
       "      <td>https://medium.com/@emilyldeans/middleware-end...</td>\n",
       "      <td>0</td>\n",
       "      <td>[The Iron Yard]</td>\n",
       "      <td>1</td>\n",
       "      <td>1</td>\n",
       "      <td>emily deans</td>\n",
       "      <td>emily</td>\n",
       "      <td>F</td>\n",
       "      <td>0.997932</td>\n",
       "      <td>0.00206823</td>\n",
       "    </tr>\n",
       "    <tr>\n",
       "      <th>2</th>\n",
       "      <td>Verity Honebon</td>\n",
       "      <td>NaN</td>\n",
       "      <td>Week 6 — working in groups (Airbnb clone) – Ve...</td>\n",
       "      <td>2017-07-31 10:57:36</td>\n",
       "      <td>medium</td>\n",
       "      <td>Week 6 — working in groups ( Airbnb clone) The...</td>\n",
       "      <td>['Agile', 'Codingbootcamp', 'Coding', 'Teamwor...</td>\n",
       "      <td>https://medium.com/@verityhonebon/week-6-worki...</td>\n",
       "      <td>1</td>\n",
       "      <td>[]</td>\n",
       "      <td>0</td>\n",
       "      <td>0</td>\n",
       "      <td>verity honebon</td>\n",
       "      <td>verity</td>\n",
       "      <td>F</td>\n",
       "      <td>1</td>\n",
       "      <td>0</td>\n",
       "    </tr>\n",
       "    <tr>\n",
       "      <th>3</th>\n",
       "      <td>Emily Chai</td>\n",
       "      <td>A student at Maker’s, aspiring full stack deve...</td>\n",
       "      <td>Hunting for a first job as a developer – Emily...</td>\n",
       "      <td>2017-05-13 10:44:31</td>\n",
       "      <td>medium</td>\n",
       "      <td>Hunting for a first job as a developer Passing...</td>\n",
       "      <td>['Job Hunting', 'Developer', 'Makersacademy', ...</td>\n",
       "      <td>https://medium.com/@emilyxchai/hunting-for-a-f...</td>\n",
       "      <td>0</td>\n",
       "      <td>[]</td>\n",
       "      <td>0</td>\n",
       "      <td>41</td>\n",
       "      <td>emily chai</td>\n",
       "      <td>emily</td>\n",
       "      <td>F</td>\n",
       "      <td>0.997932</td>\n",
       "      <td>0.00206823</td>\n",
       "    </tr>\n",
       "    <tr>\n",
       "      <th>4</th>\n",
       "      <td>Jackson McGehee</td>\n",
       "      <td>Web Dev | Software Engineer | Creative Strateg...</td>\n",
       "      <td>Notes from U̶n̶d̶e̶r̶g̶r̶o̶u̶n̶d̶ Week Nine – ...</td>\n",
       "      <td>2018-02-02 17:30:29</td>\n",
       "      <td>medium</td>\n",
       "      <td>Notes from U̶n̶d̶e̶r̶g̶r̶o̶u̶n̶d̶ Week Nine I ...</td>\n",
       "      <td>['Web Development', 'JavaScript', 'Codingbootc...</td>\n",
       "      <td>https://medium.com/@jacksonfullstack/notes-fro...</td>\n",
       "      <td>0</td>\n",
       "      <td>[General Assembly]</td>\n",
       "      <td>1</td>\n",
       "      <td>41</td>\n",
       "      <td>jackson mcgehee</td>\n",
       "      <td>jackson</td>\n",
       "      <td>M</td>\n",
       "      <td>0.00264886</td>\n",
       "      <td>0.997351</td>\n",
       "    </tr>\n",
       "    <tr>\n",
       "      <th>5</th>\n",
       "      <td>Bree Jackson</td>\n",
       "      <td>NaN</td>\n",
       "      <td>This is a homework assignment you see. – Bree ...</td>\n",
       "      <td>2017-08-11 03:11:39</td>\n",
       "      <td>medium</td>\n",
       "      <td>This is a homework assignment you see. As a po...</td>\n",
       "      <td>['Life', 'Codingbootcamp', 'Friends', 'Journey...</td>\n",
       "      <td>https://medium.com/@breejax/as-a-possible-futu...</td>\n",
       "      <td>0</td>\n",
       "      <td>[]</td>\n",
       "      <td>0</td>\n",
       "      <td>1</td>\n",
       "      <td>bree jackson</td>\n",
       "      <td>bree</td>\n",
       "      <td>F</td>\n",
       "      <td>0.997997</td>\n",
       "      <td>0.0020033</td>\n",
       "    </tr>\n",
       "  </tbody>\n",
       "</table>\n",
       "</div>"
      ],
      "text/plain": [
       "            author                                         author_bio  \\\n",
       "1      Emily Deans  Washington, D.C.-based web developer. Former c...   \n",
       "2   Verity Honebon                                                NaN   \n",
       "3       Emily Chai  A student at Maker’s, aspiring full stack deve...   \n",
       "4  Jackson McGehee  Web Dev | Software Engineer | Creative Strateg...   \n",
       "5     Bree Jackson                                                NaN   \n",
       "\n",
       "                                               title                 date  \\\n",
       "1      Middleware/End of Week – Emily Deans – Medium  2017-07-28 20:01:22   \n",
       "2  Week 6 — working in groups (Airbnb clone) – Ve...  2017-07-31 10:57:36   \n",
       "3  Hunting for a first job as a developer – Emily...  2017-05-13 10:44:31   \n",
       "4  Notes from U̶n̶d̶e̶r̶g̶r̶o̶u̶n̶d̶ Week Nine – ...  2018-02-02 17:30:29   \n",
       "5  This is a homework assignment you see. – Bree ...  2017-08-11 03:11:39   \n",
       "\n",
       "  publisher                                               text  \\\n",
       "1    medium  Middleware/ End of Week The last few days we’v...   \n",
       "2    medium  Week 6 — working in groups ( Airbnb clone) The...   \n",
       "3    medium  Hunting for a first job as a developer Passing...   \n",
       "4    medium  Notes from U̶n̶d̶e̶r̶g̶r̶o̶u̶n̶d̶ Week Nine I ...   \n",
       "5    medium  This is a homework assignment you see. As a po...   \n",
       "\n",
       "                                                tags  \\\n",
       "1  ['JavaScript', 'Lesbians Who Tech', 'Women Who...   \n",
       "2  ['Agile', 'Codingbootcamp', 'Coding', 'Teamwor...   \n",
       "3  ['Job Hunting', 'Developer', 'Makersacademy', ...   \n",
       "4  ['Web Development', 'JavaScript', 'Codingbootc...   \n",
       "5  ['Life', 'Codingbootcamp', 'Friends', 'Journey...   \n",
       "\n",
       "                                                 url  score  \\\n",
       "1  https://medium.com/@emilyldeans/middleware-end...      0   \n",
       "2  https://medium.com/@verityhonebon/week-6-worki...      1   \n",
       "3  https://medium.com/@emilyxchai/hunting-for-a-f...      0   \n",
       "4  https://medium.com/@jacksonfullstack/notes-fro...      0   \n",
       "5  https://medium.com/@breejax/as-a-possible-futu...      0   \n",
       "\n",
       "            bootcamps  num_bootcamps claps 2018-11-27 lowercase author  \\\n",
       "1     [The Iron Yard]              1                1      emily deans   \n",
       "2                  []              0                0   verity honebon   \n",
       "3                  []              0               41       emily chai   \n",
       "4  [General Assembly]              1               41  jackson mcgehee   \n",
       "5                  []              0                1     bree jackson   \n",
       "\n",
       "  first name gender prob_female   prob_male  \n",
       "1      emily      F    0.997932  0.00206823  \n",
       "2     verity      F           1           0  \n",
       "3      emily      F    0.997932  0.00206823  \n",
       "4    jackson      M  0.00264886    0.997351  \n",
       "5       bree      F    0.997997   0.0020033  "
      ]
     },
     "execution_count": 65,
     "metadata": {},
     "output_type": "execute_result"
    }
   ],
   "source": [
    "new_codingdf.head()"
   ]
  },
  {
   "cell_type": "markdown",
   "metadata": {},
   "source": [
    "What is the distriubution of gender among article authors (after filtering out companies/organizations)?"
   ]
  },
  {
   "cell_type": "code",
   "execution_count": 66,
   "metadata": {},
   "outputs": [
    {
     "data": {
      "text/plain": [
       "M          493\n",
       "F          224\n",
       "Unknown    209\n",
       "Name: gender, dtype: int64"
      ]
     },
     "execution_count": 66,
     "metadata": {},
     "output_type": "execute_result"
    }
   ],
   "source": [
    "new_codingdf[\"gender\"].value_counts()"
   ]
  },
  {
   "cell_type": "markdown",
   "metadata": {},
   "source": [
    "Our dataset contains almost double the number of male authors as female authors, and it contians quite a few unknowns  (almost one fourth), so let's just take a look at these values:"
   ]
  },
  {
   "cell_type": "code",
   "execution_count": 67,
   "metadata": {},
   "outputs": [
    {
     "data": {
      "text/html": [
       "<div>\n",
       "<style scoped>\n",
       "    .dataframe tbody tr th:only-of-type {\n",
       "        vertical-align: middle;\n",
       "    }\n",
       "\n",
       "    .dataframe tbody tr th {\n",
       "        vertical-align: top;\n",
       "    }\n",
       "\n",
       "    .dataframe thead th {\n",
       "        text-align: right;\n",
       "    }\n",
       "</style>\n",
       "<table border=\"1\" class=\"dataframe\">\n",
       "  <thead>\n",
       "    <tr style=\"text-align: right;\">\n",
       "      <th></th>\n",
       "      <th>author</th>\n",
       "      <th>author_bio</th>\n",
       "      <th>title</th>\n",
       "      <th>date</th>\n",
       "      <th>publisher</th>\n",
       "      <th>text</th>\n",
       "      <th>tags</th>\n",
       "      <th>url</th>\n",
       "      <th>score</th>\n",
       "      <th>bootcamps</th>\n",
       "      <th>num_bootcamps</th>\n",
       "      <th>claps 2018-11-27</th>\n",
       "      <th>lowercase author</th>\n",
       "      <th>first name</th>\n",
       "      <th>gender</th>\n",
       "      <th>prob_female</th>\n",
       "      <th>prob_male</th>\n",
       "    </tr>\n",
       "  </thead>\n",
       "  <tbody>\n",
       "    <tr>\n",
       "      <th>15</th>\n",
       "      <td>Zaynaib Giwa</td>\n",
       "      <td>Full Stack Developer | Aspiring Data Scientist...</td>\n",
       "      <td>Learning How to Learn – Zaynaib Giwa – Medium</td>\n",
       "      <td>2017-10-02 05:37:17</td>\n",
       "      <td>medium</td>\n",
       "      <td>Learning How to Learn I recently finished the ...</td>\n",
       "      <td>['Productivity', 'Codingbootcamp', 'Codelikeag...</td>\n",
       "      <td>https://medium.com/@zaynaibg/learning-how-to-l...</td>\n",
       "      <td>0</td>\n",
       "      <td>[]</td>\n",
       "      <td>0</td>\n",
       "      <td>0</td>\n",
       "      <td>zaynaib giwa</td>\n",
       "      <td>zaynaib</td>\n",
       "      <td>Unknown</td>\n",
       "      <td>Unknown</td>\n",
       "      <td>Unknown</td>\n",
       "    </tr>\n",
       "    <tr>\n",
       "      <th>22</th>\n",
       "      <td>it’s jennilyn</td>\n",
       "      <td>Proud to be a #WomanInTech. Software developer...</td>\n",
       "      <td>(Insert weird analogy here) for Git – it’s jen...</td>\n",
       "      <td>2017-06-02 01:40:41</td>\n",
       "      <td>medium</td>\n",
       "      <td>( Insert weird analogy here) for Git Where I c...</td>\n",
       "      <td>['Git', 'The Iron Yard', 'Learning To Code', '...</td>\n",
       "      <td>https://medium.com/@jennilynhowell/insert-weir...</td>\n",
       "      <td>0</td>\n",
       "      <td>[]</td>\n",
       "      <td>0</td>\n",
       "      <td>0</td>\n",
       "      <td>it’s jennilyn</td>\n",
       "      <td>it’s</td>\n",
       "      <td>Unknown</td>\n",
       "      <td>Unknown</td>\n",
       "      <td>Unknown</td>\n",
       "    </tr>\n",
       "    <tr>\n",
       "      <th>26</th>\n",
       "      <td>Hack Reactor</td>\n",
       "      <td>Providing the 21st century CS degree. We turn ...</td>\n",
       "      <td>4 Reasons to Learn to Code You Probably Didn’t...</td>\n",
       "      <td>2018-03-01 19:31:58</td>\n",
       "      <td>medium</td>\n",
       "      <td>4 Reasons to Learn to Code You Probably Didn’t...</td>\n",
       "      <td>['Programming', 'Coding', 'Code', 'Learning To...</td>\n",
       "      <td>https://medium.com/@hackreactor/4-reasons-to-l...</td>\n",
       "      <td>0</td>\n",
       "      <td>[Hack Reactor]</td>\n",
       "      <td>1</td>\n",
       "      <td>50</td>\n",
       "      <td>hack reactor</td>\n",
       "      <td>hack</td>\n",
       "      <td>Unknown</td>\n",
       "      <td>Unknown</td>\n",
       "      <td>Unknown</td>\n",
       "    </tr>\n",
       "    <tr>\n",
       "      <th>29</th>\n",
       "      <td>Yonko Kilasi</td>\n",
       "      <td>NaN</td>\n",
       "      <td>A place with a difference – Yonko Kilasi – Medium</td>\n",
       "      <td>2017-03-02 13:35:43</td>\n",
       "      <td>medium</td>\n",
       "      <td>A place with a difference Hello I’m Yonko . A ...</td>\n",
       "      <td>['Education', 'Teaching', 'Technology', 'Codin...</td>\n",
       "      <td>https://medium.com/@yonkokilasi/a-place-with-a...</td>\n",
       "      <td>0</td>\n",
       "      <td>[]</td>\n",
       "      <td>0</td>\n",
       "      <td>0</td>\n",
       "      <td>yonko kilasi</td>\n",
       "      <td>yonko</td>\n",
       "      <td>Unknown</td>\n",
       "      <td>Unknown</td>\n",
       "      <td>Unknown</td>\n",
       "    </tr>\n",
       "    <tr>\n",
       "      <th>35</th>\n",
       "      <td>Team Codebase</td>\n",
       "      <td>We're a 9-week iOS Training Lab and app develo...</td>\n",
       "      <td>Find the Right Coding Bootcamp for You – Team ...</td>\n",
       "      <td>2018-05-10 16:39:17</td>\n",
       "      <td>medium</td>\n",
       "      <td>Find the Right Coding Bootcamp for You What to...</td>\n",
       "      <td>['Programming', 'Coding', 'Codingbootcamp', 'E...</td>\n",
       "      <td>https://medium.com/@codebasesaga/find-the-righ...</td>\n",
       "      <td>6</td>\n",
       "      <td>[]</td>\n",
       "      <td>0</td>\n",
       "      <td>1</td>\n",
       "      <td>team codebase</td>\n",
       "      <td>team</td>\n",
       "      <td>Unknown</td>\n",
       "      <td>Unknown</td>\n",
       "      <td>Unknown</td>\n",
       "    </tr>\n",
       "  </tbody>\n",
       "</table>\n",
       "</div>"
      ],
      "text/plain": [
       "           author                                         author_bio  \\\n",
       "15   Zaynaib Giwa  Full Stack Developer | Aspiring Data Scientist...   \n",
       "22  it’s jennilyn  Proud to be a #WomanInTech. Software developer...   \n",
       "26   Hack Reactor  Providing the 21st century CS degree. We turn ...   \n",
       "29   Yonko Kilasi                                                NaN   \n",
       "35  Team Codebase  We're a 9-week iOS Training Lab and app develo...   \n",
       "\n",
       "                                                title                 date  \\\n",
       "15      Learning How to Learn – Zaynaib Giwa – Medium  2017-10-02 05:37:17   \n",
       "22  (Insert weird analogy here) for Git – it’s jen...  2017-06-02 01:40:41   \n",
       "26  4 Reasons to Learn to Code You Probably Didn’t...  2018-03-01 19:31:58   \n",
       "29  A place with a difference – Yonko Kilasi – Medium  2017-03-02 13:35:43   \n",
       "35  Find the Right Coding Bootcamp for You – Team ...  2018-05-10 16:39:17   \n",
       "\n",
       "   publisher                                               text  \\\n",
       "15    medium  Learning How to Learn I recently finished the ...   \n",
       "22    medium  ( Insert weird analogy here) for Git Where I c...   \n",
       "26    medium  4 Reasons to Learn to Code You Probably Didn’t...   \n",
       "29    medium  A place with a difference Hello I’m Yonko . A ...   \n",
       "35    medium  Find the Right Coding Bootcamp for You What to...   \n",
       "\n",
       "                                                 tags  \\\n",
       "15  ['Productivity', 'Codingbootcamp', 'Codelikeag...   \n",
       "22  ['Git', 'The Iron Yard', 'Learning To Code', '...   \n",
       "26  ['Programming', 'Coding', 'Code', 'Learning To...   \n",
       "29  ['Education', 'Teaching', 'Technology', 'Codin...   \n",
       "35  ['Programming', 'Coding', 'Codingbootcamp', 'E...   \n",
       "\n",
       "                                                  url  score       bootcamps  \\\n",
       "15  https://medium.com/@zaynaibg/learning-how-to-l...      0              []   \n",
       "22  https://medium.com/@jennilynhowell/insert-weir...      0              []   \n",
       "26  https://medium.com/@hackreactor/4-reasons-to-l...      0  [Hack Reactor]   \n",
       "29  https://medium.com/@yonkokilasi/a-place-with-a...      0              []   \n",
       "35  https://medium.com/@codebasesaga/find-the-righ...      6              []   \n",
       "\n",
       "    num_bootcamps claps 2018-11-27 lowercase author first name   gender  \\\n",
       "15              0                0     zaynaib giwa    zaynaib  Unknown   \n",
       "22              0                0    it’s jennilyn       it’s  Unknown   \n",
       "26              1               50     hack reactor       hack  Unknown   \n",
       "29              0                0     yonko kilasi      yonko  Unknown   \n",
       "35              0                1    team codebase       team  Unknown   \n",
       "\n",
       "   prob_female prob_male  \n",
       "15     Unknown   Unknown  \n",
       "22     Unknown   Unknown  \n",
       "26     Unknown   Unknown  \n",
       "29     Unknown   Unknown  \n",
       "35     Unknown   Unknown  "
      ]
     },
     "execution_count": 67,
     "metadata": {},
     "output_type": "execute_result"
    }
   ],
   "source": [
    "new_codingdf[new_codingdf[\"gender\"] == \"Unknown\"].head()"
   ]
  },
  {
   "cell_type": "markdown",
   "metadata": {},
   "source": [
    "We can see that many of the authors in this part are different schools/workshops/organizations that we missed out on earlier, or they are more international type of names, or they are names with a letter for the first name followed by the full last name (these we may have to go through by hand in order to determine gender). Many are also from an author called \"conshus\".  \n",
    "These issues arise from the limitations of our dataset, which as a database of United States baby-names very Western-centric in the names it contains.\n",
    "\n",
    " Let's try subsetting the data based on the genders that we predicted, and see if this will lead to any interesting insights."
   ]
  },
  {
   "cell_type": "code",
   "execution_count": 68,
   "metadata": {},
   "outputs": [],
   "source": [
    "codingdf_male_and_female = new_codingdf[new_codingdf[\"gender\"] != \"Unknown\"]\n",
    "codingdf_male = new_codingdf[new_codingdf[\"gender\"] == \"M\"]\n",
    "codingdf_female = new_codingdf[new_codingdf[\"gender\"] == \"F\"]"
   ]
  },
  {
   "cell_type": "code",
   "execution_count": 69,
   "metadata": {},
   "outputs": [
    {
     "name": "stderr",
     "output_type": "stream",
     "text": [
      "/Users/franciemcquarrie/anaconda3/lib/python3.6/site-packages/ipykernel_launcher.py:1: SettingWithCopyWarning: \n",
      "A value is trying to be set on a copy of a slice from a DataFrame.\n",
      "Try using .loc[row_indexer,col_indexer] = value instead\n",
      "\n",
      "See the caveats in the documentation: http://pandas.pydata.org/pandas-docs/stable/indexing.html#indexing-view-versus-copy\n",
      "  \"\"\"Entry point for launching an IPython kernel.\n",
      "/Users/franciemcquarrie/anaconda3/lib/python3.6/site-packages/ipykernel_launcher.py:2: SettingWithCopyWarning: \n",
      "A value is trying to be set on a copy of a slice from a DataFrame.\n",
      "Try using .loc[row_indexer,col_indexer] = value instead\n",
      "\n",
      "See the caveats in the documentation: http://pandas.pydata.org/pandas-docs/stable/indexing.html#indexing-view-versus-copy\n",
      "  \n"
     ]
    }
   ],
   "source": [
    "codingdf_male[\"date\"] = pd.to_datetime(codingdf_male['date'], infer_datetime_format = True)\n",
    "codingdf_female[\"date\"] = pd.to_datetime(codingdf_female['date'], infer_datetime_format = True)"
   ]
  },
  {
   "cell_type": "markdown",
   "metadata": {},
   "source": [
    "Over what years did male authors publish articles?"
   ]
  },
  {
   "cell_type": "code",
   "execution_count": 70,
   "metadata": {},
   "outputs": [
    {
     "name": "stdout",
     "output_type": "stream",
     "text": [
      "Male year publication distribution:\n"
     ]
    },
    {
     "data": {
      "text/plain": [
       "2018    290\n",
       "2017    180\n",
       "2016     23\n",
       "Name: date, dtype: int64"
      ]
     },
     "execution_count": 70,
     "metadata": {},
     "output_type": "execute_result"
    }
   ],
   "source": [
    "print(\"Male year publication distribution:\")\n",
    "codingdf_male[\"date\"].dt.year.value_counts()"
   ]
  },
  {
   "cell_type": "markdown",
   "metadata": {},
   "source": [
    "Over what years did female authors publish articles?"
   ]
  },
  {
   "cell_type": "code",
   "execution_count": 71,
   "metadata": {},
   "outputs": [
    {
     "name": "stdout",
     "output_type": "stream",
     "text": [
      "Female year publication distribution:\n"
     ]
    },
    {
     "data": {
      "text/plain": [
       "2017    110\n",
       "2018    106\n",
       "2016      7\n",
       "2015      1\n",
       "Name: date, dtype: int64"
      ]
     },
     "execution_count": 71,
     "metadata": {},
     "output_type": "execute_result"
    }
   ],
   "source": [
    "print(\"Female year publication distribution:\")\n",
    "codingdf_female[\"date\"].dt.year.value_counts()"
   ]
  },
  {
   "cell_type": "markdown",
   "metadata": {},
   "source": [
    "Over what months did male authors publish articles?"
   ]
  },
  {
   "cell_type": "code",
   "execution_count": 72,
   "metadata": {},
   "outputs": [
    {
     "name": "stdout",
     "output_type": "stream",
     "text": [
      "Male month publication distribution:\n"
     ]
    },
    {
     "data": {
      "text/plain": [
       "8     108\n",
       "5     105\n",
       "7      94\n",
       "3      50\n",
       "9      41\n",
       "10     27\n",
       "6      19\n",
       "4      14\n",
       "11     12\n",
       "2       8\n",
       "1       8\n",
       "12      7\n",
       "Name: date, dtype: int64"
      ]
     },
     "execution_count": 72,
     "metadata": {},
     "output_type": "execute_result"
    }
   ],
   "source": [
    "print(\"Male month publication distribution:\")\n",
    "codingdf_male[\"date\"].dt.month.value_counts()"
   ]
  },
  {
   "cell_type": "markdown",
   "metadata": {},
   "source": [
    "Over what months did female authors publish articles?"
   ]
  },
  {
   "cell_type": "code",
   "execution_count": 73,
   "metadata": {},
   "outputs": [
    {
     "name": "stdout",
     "output_type": "stream",
     "text": [
      "Female month publication distribution:\n"
     ]
    },
    {
     "data": {
      "text/plain": [
       "7     59\n",
       "8     40\n",
       "5     36\n",
       "3     24\n",
       "9     18\n",
       "10    12\n",
       "6     10\n",
       "4     10\n",
       "11     6\n",
       "1      5\n",
       "12     2\n",
       "2      2\n",
       "Name: date, dtype: int64"
      ]
     },
     "execution_count": 73,
     "metadata": {},
     "output_type": "execute_result"
    }
   ],
   "source": [
    "print(\"Female month publication distribution:\")\n",
    "codingdf_female[\"date\"].dt.month.value_counts()"
   ]
  },
  {
   "cell_type": "markdown",
   "metadata": {},
   "source": [
    "What hours of the day were most common for male authors to publish?"
   ]
  },
  {
   "cell_type": "code",
   "execution_count": 74,
   "metadata": {},
   "outputs": [
    {
     "name": "stdout",
     "output_type": "stream",
     "text": [
      "Male hour publish distribution:\n"
     ]
    },
    {
     "data": {
      "text/plain": [
       "1     34\n",
       "19    31\n",
       "15    31\n",
       "16    27\n",
       "13    26\n",
       "18    25\n",
       "12    25\n",
       "2     24\n",
       "23    23\n",
       "5     22\n",
       "21    22\n",
       "20    22\n",
       "0     20\n",
       "17    20\n",
       "4     19\n",
       "3     19\n",
       "7     18\n",
       "6     18\n",
       "14    17\n",
       "22    13\n",
       "11    13\n",
       "10    10\n",
       "8      8\n",
       "9      6\n",
       "Name: date, dtype: int64"
      ]
     },
     "execution_count": 74,
     "metadata": {},
     "output_type": "execute_result"
    }
   ],
   "source": [
    "print(\"Male hour publish distribution:\")\n",
    "codingdf_male[\"date\"].dt.hour.value_counts()"
   ]
  },
  {
   "cell_type": "code",
   "execution_count": 75,
   "metadata": {},
   "outputs": [
    {
     "name": "stdout",
     "output_type": "stream",
     "text": [
      "Female hour publish distribution:\n"
     ]
    },
    {
     "data": {
      "text/plain": [
       "0     17\n",
       "19    16\n",
       "1     16\n",
       "23    15\n",
       "21    15\n",
       "2     11\n",
       "3     11\n",
       "20    10\n",
       "18    10\n",
       "5     10\n",
       "11    10\n",
       "14     9\n",
       "15     9\n",
       "16     9\n",
       "6      8\n",
       "22     7\n",
       "10     7\n",
       "13     7\n",
       "17     7\n",
       "4      6\n",
       "9      5\n",
       "7      4\n",
       "12     3\n",
       "8      2\n",
       "Name: date, dtype: int64"
      ]
     },
     "execution_count": 75,
     "metadata": {},
     "output_type": "execute_result"
    }
   ],
   "source": [
    "print(\"Female hour publish distribution:\")\n",
    "codingdf_female[\"date\"].dt.hour.value_counts()"
   ]
  },
  {
   "cell_type": "markdown",
   "metadata": {},
   "source": [
    "Let's see if we can visualize these series of values with various plots, to get a better sense how males and females may differ in their publication dates/times."
   ]
  },
  {
   "cell_type": "code",
   "execution_count": 76,
   "metadata": {},
   "outputs": [
    {
     "data": {
      "image/png": "[encoded data removed]",
      "text/plain": [
       "<Figure size 648x648 with 1 Axes>"
      ]
     },
     "metadata": {},
     "output_type": "display_data"
    }
   ],
   "source": [
    "plt.figure(figsize=(9, 9))\n",
    "ax = sns.distplot(codingdf_female[\"date\"].dt.month, label = \"Female\", hist = False)\n",
    "sns.distplot(codingdf_male[\"date\"].dt.month, label = \"Male\", hist = False)\n",
    "\n",
    "ax.set(xlabel=\"Month\", ylabel = \"Fraction\", title=\"Fraction of People who Published per Month\")\n",
    "plt.legend()\n",
    "plt.xlim(-0.5,12.5);"
   ]
  },
  {
   "cell_type": "code",
   "execution_count": 77,
   "metadata": {},
   "outputs": [
    {
     "data": {
      "image/png": "[encoded data removed]",
      "text/plain": [
       "<Figure size 648x648 with 1 Axes>"
      ]
     },
     "metadata": {},
     "output_type": "display_data"
    }
   ],
   "source": [
    "plt.figure(figsize=(9, 9))\n",
    "ax = sns.distplot(codingdf_female[\"date\"].dt.year, label = \"Female\", hist = False)\n",
    "sns.distplot(codingdf_male[\"date\"].dt.year, label = \"Male\", hist = False)\n",
    "\n",
    "ax.set(xlabel=\"Year\", ylabel=\"Fraction\", title=\"Fraction of People who Published per Year\")\n",
    "plt.legend();"
   ]
  },
  {
   "cell_type": "code",
   "execution_count": 78,
   "metadata": {},
   "outputs": [
    {
     "name": "stderr",
     "output_type": "stream",
     "text": [
      "/Users/franciemcquarrie/anaconda3/lib/python3.6/site-packages/matplotlib/axes/_axes.py:6462: UserWarning: The 'normed' kwarg is deprecated, and has been replaced by the 'density' kwarg.\n",
      "  warnings.warn(\"The 'normed' kwarg is deprecated, and has been \"\n",
      "/Users/franciemcquarrie/anaconda3/lib/python3.6/site-packages/matplotlib/axes/_axes.py:6462: UserWarning: The 'normed' kwarg is deprecated, and has been replaced by the 'density' kwarg.\n",
      "  warnings.warn(\"The 'normed' kwarg is deprecated, and has been \"\n"
     ]
    },
    {
     "data": {
      "image/png": "[encoded data removed]",
      "text/plain": [
       "<Figure size 648x648 with 1 Axes>"
      ]
     },
     "metadata": {},
     "output_type": "display_data"
    }
   ],
   "source": [
    "plt.figure(figsize=(9, 9))\n",
    "ax = sns.distplot(codingdf_female[\"date\"].dt.hour, label = \"Female\", hist = True)\n",
    "sns.distplot(codingdf_male[\"date\"].dt.hour, label = \"Male\", hist = True)\n",
    "\n",
    "ax.set(xlabel=\"Hour\", ylabel=\"Fraction\", title=\"Fraction of People who Published per Hour\")\n",
    "plt.legend();"
   ]
  },
  {
   "cell_type": "code",
   "execution_count": 79,
   "metadata": {},
   "outputs": [
    {
     "data": {
      "image/png": "[encoded data removed]",
      "text/plain": [
       "<Figure size 648x648 with 1 Axes>"
      ]
     },
     "metadata": {},
     "output_type": "display_data"
    }
   ],
   "source": [
    "plt.figure(figsize=(9, 9))\n",
    "ax = sns.distplot(codingdf_female[\"date\"].dt.day, label = \"Female\", hist = False)\n",
    "sns.distplot(codingdf_male[\"date\"].dt.day, label = \"Male\", hist = False)\n",
    "\n",
    "ax.set(xlabel=\"Day\", ylabel=\"Fraction\", title=\"Fraction of People who Published per Day\")\n",
    "plt.legend();"
   ]
  },
  {
   "cell_type": "markdown",
   "metadata": {},
   "source": [
    "In addition to time differences between the sexes, we can also look at whether males and females write different article lengths. Is one gender \"wordier\" than the other?"
   ]
  },
  {
   "cell_type": "code",
   "execution_count": 80,
   "metadata": {},
   "outputs": [
    {
     "data": {
      "text/plain": [
       "3795.214285714286"
      ]
     },
     "execution_count": 80,
     "metadata": {},
     "output_type": "execute_result"
    }
   ],
   "source": [
    "# length of article in characters \n",
    "avg_len_char_female = codingdf_female[\"text\"].apply(len).mean()\n",
    "avg_len_char_female"
   ]
  },
  {
   "cell_type": "code",
   "execution_count": 81,
   "metadata": {},
   "outputs": [
    {
     "data": {
      "text/plain": [
       "4185.253549695741"
      ]
     },
     "execution_count": 81,
     "metadata": {},
     "output_type": "execute_result"
    }
   ],
   "source": [
    "avg_len_char_male = codingdf_male[\"text\"].apply(len).mean()\n",
    "avg_len_char_male"
   ]
  },
  {
   "cell_type": "code",
   "execution_count": 82,
   "metadata": {},
   "outputs": [
    {
     "name": "stderr",
     "output_type": "stream",
     "text": [
      "/Users/franciemcquarrie/anaconda3/lib/python3.6/site-packages/ipykernel_launcher.py:2: SettingWithCopyWarning: \n",
      "A value is trying to be set on a copy of a slice from a DataFrame.\n",
      "Try using .loc[row_indexer,col_indexer] = value instead\n",
      "\n",
      "See the caveats in the documentation: http://pandas.pydata.org/pandas-docs/stable/indexing.html#indexing-view-versus-copy\n",
      "  \n"
     ]
    },
    {
     "data": {
      "text/plain": [
       "684.4464285714286"
      ]
     },
     "execution_count": 82,
     "metadata": {},
     "output_type": "execute_result"
    }
   ],
   "source": [
    "# length in words\n",
    "codingdf_female[\"text_length\"] = codingdf_female[\"text\"].str.split(' ').apply(len)\n",
    "avg_len_word_female = codingdf_female[\"text_length\"].mean()\n",
    "avg_len_word_female"
   ]
  },
  {
   "cell_type": "code",
   "execution_count": 83,
   "metadata": {},
   "outputs": [
    {
     "name": "stderr",
     "output_type": "stream",
     "text": [
      "/Users/franciemcquarrie/anaconda3/lib/python3.6/site-packages/ipykernel_launcher.py:1: SettingWithCopyWarning: \n",
      "A value is trying to be set on a copy of a slice from a DataFrame.\n",
      "Try using .loc[row_indexer,col_indexer] = value instead\n",
      "\n",
      "See the caveats in the documentation: http://pandas.pydata.org/pandas-docs/stable/indexing.html#indexing-view-versus-copy\n",
      "  \"\"\"Entry point for launching an IPython kernel.\n"
     ]
    },
    {
     "data": {
      "text/plain": [
       "756.841784989858"
      ]
     },
     "execution_count": 83,
     "metadata": {},
     "output_type": "execute_result"
    }
   ],
   "source": [
    "codingdf_male[\"text_length\"] = codingdf_male[\"text\"].str.split(' ').apply(len)\n",
    "avg_len_word_male = codingdf_male[\"text_length\"].mean()\n",
    "avg_len_word_male"
   ]
  },
  {
   "cell_type": "markdown",
   "metadata": {},
   "source": [
    "# Conclusions"
   ]
  },
  {
   "cell_type": "markdown",
   "metadata": {},
   "source": [
    "We collected a dataset of articles from [Medium](https://medium.com/) that were tagged with `Codingbootcamp` to see if analyzing these articles could help us learn more about the students, founders, and opinionaters surrounding coding bootcamps, a relatively new phenomena to acheive computer science education.\n",
    "\n",
    "After cleaning the data, where we removed non english blogposts, we conducted analysis of several aspects:\n",
    "\n",
    "**Relevancy**:  \n",
    "We attempted to compute a relevancy score for each article, based on a set of words and weights that Krista felt would segrate articles based on whether they discussed the student's *motivations* for attending coding bootcamp, which was the focus of her original research. However, she moved off of that topic and thus we did not pursue that aspect of the data further.   \n",
    "\n",
    "**Bootcamp Association**: \n",
    "Each (non organization) author of an article of our dataset most likely had some association with one of the coding bootcamps, so we analyzed the author biographies (where someone might write \"Student at @TheIronYard\") and article text to find associated bootcamps. Most authors listed only one bootcamp (as expected) but one article listed twelve. The top three mentioned bootcamps were [The Iron Yard](https://www.bloc.io/learn-to-code/bc/the-iron-yard), [Sabio](https://sabio.la/), and [Hack Reactor](https://www.hackreactor.com/) respectively, though this might have been skewed by Sabio's heavy reliance on Medium marketing matierals.  \n",
    "\n",
    "**Publisher**: \n",
    "Each article's html was tagged with a publisher, and we discovered that 92% of the articles tagged were self published by the authors. The rest are published by one of the coding bootcamps, and these articles were mostly heavy promotional content that featured current students of the school, the unconvential paths that led them to coding bootcamp (english major at Yale to coder!), and the success of the students after graduation. [Sabio](https://sabio.la/) Coding bootcamp was the most prominent of the publishers after self publishing.    \n",
    "\n",
    "**Number of Claps**:\n",
    "Lastly, we were interested in the number of claps (a \"kudos\" button on each article) each article in our dataset recieved, to gauge the relative popularity of `Codingbootcamp` articles compared to site-wide articles. About 30% of the articles recieved no claps, and the largest number of claps in our dataset is 2100, which is a far cry from the popular tag stories analyzed in [this](https://medium.freecodecamp.org/how-i-analyzed-a-million-medium-articles-to-learn-how-many-claps-great-stories-get-d688cf92759f) article. "
   ]
  },
  {
   "cell_type": "code",
   "execution_count": null,
   "metadata": {},
   "outputs": [],
   "source": []
  }
 ],
 "metadata": {
  "kernelspec": {
   "display_name": "Python 3",
   "language": "python",
   "name": "python3"
  },
  "language_info": {
   "codemirror_mode": {
    "name": "ipython",
    "version": 3
   },
   "file_extension": ".py",
   "mimetype": "text/x-python",
   "name": "python",
   "nbconvert_exporter": "python",
   "pygments_lexer": "ipython3",
   "version": "3.6.5"
  }
 },
 "nbformat": 4,
 "nbformat_minor": 2
}
